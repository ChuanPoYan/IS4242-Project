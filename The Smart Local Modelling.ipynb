{
  "cells": [
    {
      "cell_type": "markdown",
      "metadata": {
        "id": "8A-M8cgt6V-j"
      },
      "source": [
        "# Import Libraries"
      ]
    },
    {
      "cell_type": "code",
      "execution_count": 1,
      "metadata": {
        "id": "yXlKC1um7XQu"
      },
      "outputs": [],
      "source": [
        "import pandas as pd\n",
        "import numpy as np\n",
        "import matplotlib.pyplot as plt\n",
        "import statsmodels.api as sm\n",
        "\n",
        "import catboost as cb\n",
        "import lightgbm as lgb\n",
        "from sklearn.ensemble import AdaBoostClassifier\n",
        "from sklearn.preprocessing import StandardScaler, LabelEncoder\n",
        "from sklearn.metrics import (accuracy_score, classification_report, \n",
        "                             confusion_matrix, mean_absolute_error,\n",
        "                             mean_squared_error)\n",
        "from sklearn.model_selection import (cross_val_score, GridSearchCV,\n",
        "                                     RandomizedSearchCV, RepeatedStratifiedKFold,\n",
        "                                     train_test_split)"
      ]
    },
    {
      "cell_type": "markdown",
      "metadata": {
        "id": "KdiJLj2rFZpj"
      },
      "source": [
        "# Set Random State"
      ]
    },
    {
      "cell_type": "code",
      "execution_count": null,
      "metadata": {
        "id": "ZYDq3HWJFkvY"
      },
      "outputs": [],
      "source": [
        "global rand_state\n",
        "rand_state = 2023"
      ]
    },
    {
      "cell_type": "markdown",
      "metadata": {
        "id": "PxM9U6raEzxU"
      },
      "source": [
        "# Utility Functions"
      ]
    },
    {
      "cell_type": "code",
      "execution_count": null,
      "metadata": {
        "id": "gskrW5oSE3mH"
      },
      "outputs": [],
      "source": [
        "def get_mean_cvs(model, X, y):\n",
        "    global rand_state\n",
        "    cv = RepeatedStratifiedKFold(n_splits=10,\n",
        "                                 n_repeats=3,\n",
        "                                 random_state=rand_state)\n",
        "    \n",
        "    scores = cross_val_score(model, X, y,\n",
        "                             scoring='accuracy',\n",
        "                             cv=cv,\n",
        "                             n_jobs=-1,\n",
        "                             error_score='raise', )\n",
        "    \n",
        "    print(f'Cross Validation Accuracy Score: {scores.mean():.3f} ({scores.std():.3f})')\n",
        "    \n",
        "    return scores\n",
        "\n",
        "\n",
        "def evaluate_model(y_true, y_pred):\n",
        "    \"\"\"Prints a classification report and plots a confusion matrix.\"\"\"\n",
        "    labels = ['High Shares', 'Average Shares', 'Low Shares']\n",
        "\n",
        "    print(classification_report(y_true=y_true,\n",
        "                                y_pred=y_pred,\n",
        "                                target_names=labels))\n",
        "    \n",
        "    accuracy = accuracy_score(y_true, y_pred)\n",
        "    print(f'Accuracy: {accuracy:.3f}')\n",
        "\n",
        "    cm = confusion_matrix(y_true=y_true,\n",
        "                          y_pred=y_pred,\n",
        "                          labels=labels)\n",
        "\n",
        "    plt.imshow(cm, cmap=plt.cm.Blues)\n",
        "    threshold = cm.min() + ((cm.max() - cm.min()) / 2)\n",
        "\n",
        "    for i in range(cm.shape[0]):\n",
        "        for j in range(cm.shape[1]): \n",
        "            plt.text(x=j, y=i, s=cm[i,j], \n",
        "                      color='w' if cm[i,j] > threshold else 'black',\n",
        "                      fontsize=16, ha='center', va='center')\n",
        "\n",
        "    tick_marks = np.arange(len(labels))\n",
        "    plt.xticks(tick_marks, labels)\n",
        "    plt.yticks(tick_marks, labels)\n",
        "    plt.ylabel('True label')\n",
        "    plt.xlabel('Predicted label')\n",
        "    plt.colorbar()\n",
        "    plt.tight_layout()\n",
        "\n",
        "def get_best_params(model, grid, X, y, is_iterate_all):\n",
        "    # Estimates model performance\n",
        "    cv = RepeatedStratifiedKFold(n_splits=10,\n",
        "                                 n_repeats=3, \n",
        "                                 random_state=rand_state)\n",
        "\n",
        "    if is_iterate_all:\n",
        "        # Tries all combinations of hyperparameters specified in grid to\n",
        "        # get best parameters\n",
        "        scv = GridSearchCV(estimator=model,\n",
        "                           param_grid=grid,\n",
        "                           n_jobs=-1,\n",
        "                           cv=cv,\n",
        "                           scoring='neg_log_loss',\n",
        "                           error_score=0)\n",
        "    else:\n",
        "        scv = RandomizedSearchCV(estimator=model,\n",
        "                                 param_distributions=grid,\n",
        "                                 n_iter=10,\n",
        "                                 n_jobs=-1,\n",
        "                                 cv=None, \n",
        "                                 scoring='neg_log_loss', \n",
        "                                 random_state=rand_state)\n",
        "    \n",
        "    grid_result = scv.fit(X, y)\n",
        "    \n",
        "    # Results summary\n",
        "    print(f'Best: {grid_result.best_score_} using {grid_result.best_params_}')\n",
        "    means = grid_result.cv_results_['mean_test_score']\n",
        "    stds = grid_result.cv_results_['std_test_score']\n",
        "    params = grid_result.cv_results_['params']\n",
        "    for mean, stdev, param in zip(means, stds, params):\n",
        "        print(f'{mean} ({stdev}) with: {param}')\n",
        "    print(\"Best Parameters: \" +  str(grid_result.best_params_))\n",
        "        \n",
        "    return grid_result"
      ]
    },
    {
      "cell_type": "markdown",
      "metadata": {
        "id": "YF6rgeh76fqG"
      },
      "source": [
        "# Load Dataset"
      ]
    },
    {
      "cell_type": "code",
      "execution_count": 2,
      "metadata": {
        "id": "jpeT0mb4Fh82"
      },
      "outputs": [],
      "source": [
        "X_train = pd.read_csv('./dataset/SmartLocal/X_train.csv')\n",
        "y_train = pd.read_csv('./dataset/SmartLocal/y_train.csv')\n",
        "\n",
        "X_test = pd.read_csv('./dataset/SmartLocal/X_test.csv')\n",
        "y_test = pd.read_csv('./dataset/SmartLocal/y_test.csv')"
      ]
    },
    {
      "cell_type": "markdown",
      "metadata": {
        "id": "LGfqz3ZxF-vP"
      },
      "source": [
        "# Scaling Data"
      ]
    },
    {
      "cell_type": "code",
      "execution_count": null,
      "metadata": {
        "id": "jE5IC0uhGA2Y"
      },
      "outputs": [],
      "source": [
        "# Gradient descent and distance-based algorithms require feature scaling while tree-based algorithms do not.\n",
        "scaler = StandardScaler()\n",
        "X_train_scaled = pd.DataFrame(scaler.fit_transform(X_train), columns=X_train.columns)\n",
        "X_test_scaled = pd.DataFrame(scaler.transform(X_test), columns=X_test.columns)"
      ]
    },
    {
      "cell_type": "markdown",
      "metadata": {
        "id": "jKxQ3MFDEhj0"
      },
      "source": [
        "# 1. Gradient Boosting"
      ]
    },
    {
      "cell_type": "markdown",
      "metadata": {
        "id": "dFLFxs8fEm6I"
      },
      "source": [
        "## 1.1 CatBoost"
      ]
    },
    {
      "cell_type": "code",
      "execution_count": null,
      "metadata": {
        "colab": {
          "base_uri": "https://localhost:8080/",
          "height": 687
        },
        "id": "5s8gjusJEnqX",
        "outputId": "e9635acd-2c3a-4ec2-a673-83026f65025b"
      },
      "outputs": [
        {
          "name": "stdout",
          "output_type": "stream",
          "text": [
            "Cross Validation Accuracy Score: 0.485 (0.027)\n",
            "                precision    recall  f1-score   support\n",
            "\n",
            "   High Shares       0.40      0.29      0.34       283\n",
            "Average Shares       0.51      0.58      0.54       245\n",
            "    Low Shares       0.49      0.58      0.53       271\n",
            "\n",
            "      accuracy                           0.48       799\n",
            "     macro avg       0.47      0.48      0.47       799\n",
            "  weighted avg       0.47      0.48      0.47       799\n",
            "\n",
            "Accuracy: 0.476\n"
          ]
        },
        {
          "data": {
            "image/png": "[encoded data removed]",
            "text/plain": [
              "<Figure size 640x480 with 2 Axes>"
            ]
          },
          "metadata": {},
          "output_type": "display_data"
        }
      ],
      "source": [
        "cb_base_model = cb.CatBoostClassifier(\n",
        "    iterations=100, \n",
        "    learning_rate=0.1, \n",
        "    loss_function='MultiClass', \n",
        "    random_state=rand_state\n",
        ")\n",
        "\n",
        "get_mean_cvs(cb_base_model, X_train, y_train)\n",
        "\n",
        "cb_base_model.fit(X_train, y_train, verbose=False)\n",
        "y_pred_cb_base = cb_base_model.predict(X_test)\n",
        "evaluate_model(y_test, y_pred_cb_base)"
      ]
    },
    {
      "cell_type": "code",
      "execution_count": null,
      "metadata": {
        "colab": {
          "base_uri": "https://localhost:8080/"
        },
        "id": "a0g07bbmQMsw",
        "outputId": "08149bbe-f57d-4285-eb98-cc6768499321"
      },
      "outputs": [
        {
          "name": "stdout",
          "output_type": "stream",
          "text": [
            "0:\tlearn: 1.0940975\ttotal: 58.7ms\tremaining: 58.6s\n",
            "1:\tlearn: 1.0898361\ttotal: 117ms\tremaining: 58.3s\n",
            "2:\tlearn: 1.0858310\ttotal: 163ms\tremaining: 54.2s\n",
            "3:\tlearn: 1.0826232\ttotal: 213ms\tremaining: 53s\n",
            "4:\tlearn: 1.0788204\ttotal: 238ms\tremaining: 47.4s\n",
            "5:\tlearn: 1.0750121\ttotal: 267ms\tremaining: 44.2s\n",
            "6:\tlearn: 1.0719622\ttotal: 301ms\tremaining: 42.7s\n",
            "7:\tlearn: 1.0692931\ttotal: 326ms\tremaining: 40.5s\n",
            "8:\tlearn: 1.0663904\ttotal: 352ms\tremaining: 38.8s\n",
            "9:\tlearn: 1.0634669\ttotal: 378ms\tremaining: 37.5s\n",
            "10:\tlearn: 1.0606726\ttotal: 404ms\tremaining: 36.3s\n",
            "11:\tlearn: 1.0572511\ttotal: 432ms\tremaining: 35.5s\n",
            "12:\tlearn: 1.0546178\ttotal: 458ms\tremaining: 34.8s\n",
            "13:\tlearn: 1.0520108\ttotal: 487ms\tremaining: 34.3s\n",
            "14:\tlearn: 1.0487213\ttotal: 513ms\tremaining: 33.7s\n",
            "15:\tlearn: 1.0468066\ttotal: 540ms\tremaining: 33.2s\n",
            "16:\tlearn: 1.0433922\ttotal: 566ms\tremaining: 32.7s\n",
            "17:\tlearn: 1.0410259\ttotal: 592ms\tremaining: 32.3s\n",
            "18:\tlearn: 1.0389071\ttotal: 618ms\tremaining: 31.9s\n",
            "19:\tlearn: 1.0359661\ttotal: 646ms\tremaining: 31.6s\n",
            "20:\tlearn: 1.0333251\ttotal: 671ms\tremaining: 31.3s\n",
            "21:\tlearn: 1.0310607\ttotal: 698ms\tremaining: 31s\n",
            "22:\tlearn: 1.0291808\ttotal: 723ms\tremaining: 30.7s\n",
            "23:\tlearn: 1.0267726\ttotal: 748ms\tremaining: 30.4s\n",
            "24:\tlearn: 1.0250943\ttotal: 774ms\tremaining: 30.2s\n",
            "25:\tlearn: 1.0232273\ttotal: 799ms\tremaining: 29.9s\n",
            "26:\tlearn: 1.0210481\ttotal: 824ms\tremaining: 29.7s\n",
            "27:\tlearn: 1.0187044\ttotal: 849ms\tremaining: 29.5s\n",
            "28:\tlearn: 1.0164490\ttotal: 873ms\tremaining: 29.2s\n",
            "29:\tlearn: 1.0146507\ttotal: 902ms\tremaining: 29.2s\n",
            "30:\tlearn: 1.0133689\ttotal: 929ms\tremaining: 29s\n",
            "31:\tlearn: 1.0106835\ttotal: 955ms\tremaining: 28.9s\n",
            "32:\tlearn: 1.0096506\ttotal: 981ms\tremaining: 28.8s\n",
            "33:\tlearn: 1.0076625\ttotal: 1.01s\tremaining: 28.6s\n",
            "34:\tlearn: 1.0057122\ttotal: 1.03s\tremaining: 28.5s\n",
            "35:\tlearn: 1.0041056\ttotal: 1.05s\tremaining: 28.2s\n",
            "36:\tlearn: 1.0016319\ttotal: 1.08s\tremaining: 28.1s\n",
            "37:\tlearn: 0.9998057\ttotal: 1.11s\tremaining: 28s\n",
            "38:\tlearn: 0.9979221\ttotal: 1.13s\tremaining: 27.9s\n",
            "39:\tlearn: 0.9954872\ttotal: 1.16s\tremaining: 27.8s\n",
            "40:\tlearn: 0.9939973\ttotal: 1.19s\tremaining: 27.8s\n",
            "41:\tlearn: 0.9918515\ttotal: 1.21s\tremaining: 27.7s\n",
            "42:\tlearn: 0.9900021\ttotal: 1.24s\tremaining: 27.6s\n",
            "43:\tlearn: 0.9886385\ttotal: 1.26s\tremaining: 27.5s\n",
            "44:\tlearn: 0.9869132\ttotal: 1.29s\tremaining: 27.5s\n",
            "45:\tlearn: 0.9855734\ttotal: 1.33s\tremaining: 27.6s\n",
            "46:\tlearn: 0.9841752\ttotal: 1.36s\tremaining: 27.5s\n",
            "47:\tlearn: 0.9826912\ttotal: 1.38s\tremaining: 27.4s\n",
            "48:\tlearn: 0.9811950\ttotal: 1.41s\tremaining: 27.4s\n",
            "49:\tlearn: 0.9797941\ttotal: 1.44s\tremaining: 27.3s\n",
            "50:\tlearn: 0.9789611\ttotal: 1.46s\tremaining: 27.2s\n",
            "51:\tlearn: 0.9775779\ttotal: 1.5s\tremaining: 27.3s\n",
            "52:\tlearn: 0.9762321\ttotal: 1.52s\tremaining: 27.2s\n",
            "53:\tlearn: 0.9748604\ttotal: 1.55s\tremaining: 27.2s\n",
            "54:\tlearn: 0.9736453\ttotal: 1.58s\tremaining: 27.1s\n",
            "55:\tlearn: 0.9721651\ttotal: 1.6s\tremaining: 27s\n",
            "56:\tlearn: 0.9712898\ttotal: 1.63s\tremaining: 26.9s\n",
            "57:\tlearn: 0.9700772\ttotal: 1.65s\tremaining: 26.8s\n",
            "58:\tlearn: 0.9690532\ttotal: 1.67s\tremaining: 26.7s\n",
            "59:\tlearn: 0.9672417\ttotal: 1.7s\tremaining: 26.6s\n",
            "60:\tlearn: 0.9658859\ttotal: 1.72s\tremaining: 26.5s\n",
            "61:\tlearn: 0.9652783\ttotal: 1.75s\tremaining: 26.4s\n",
            "62:\tlearn: 0.9639234\ttotal: 1.77s\tremaining: 26.3s\n",
            "63:\tlearn: 0.9633089\ttotal: 1.8s\tremaining: 26.3s\n",
            "64:\tlearn: 0.9621629\ttotal: 1.83s\tremaining: 26.3s\n",
            "65:\tlearn: 0.9611547\ttotal: 1.85s\tremaining: 26.2s\n",
            "66:\tlearn: 0.9599643\ttotal: 1.88s\tremaining: 26.2s\n",
            "67:\tlearn: 0.9586195\ttotal: 1.91s\tremaining: 26.1s\n",
            "68:\tlearn: 0.9577235\ttotal: 1.93s\tremaining: 26.1s\n",
            "69:\tlearn: 0.9567269\ttotal: 1.96s\tremaining: 26.1s\n",
            "70:\tlearn: 0.9558868\ttotal: 1.99s\tremaining: 26.1s\n",
            "71:\tlearn: 0.9542747\ttotal: 2.02s\tremaining: 26s\n",
            "72:\tlearn: 0.9527739\ttotal: 2.04s\tremaining: 25.9s\n",
            "73:\tlearn: 0.9518280\ttotal: 2.07s\tremaining: 25.9s\n",
            "74:\tlearn: 0.9509636\ttotal: 2.09s\tremaining: 25.8s\n",
            "75:\tlearn: 0.9498549\ttotal: 2.12s\tremaining: 25.8s\n",
            "76:\tlearn: 0.9488369\ttotal: 2.15s\tremaining: 25.7s\n",
            "77:\tlearn: 0.9476012\ttotal: 2.17s\tremaining: 25.7s\n",
            "78:\tlearn: 0.9465671\ttotal: 2.2s\tremaining: 25.7s\n",
            "79:\tlearn: 0.9456829\ttotal: 2.23s\tremaining: 25.6s\n",
            "80:\tlearn: 0.9443427\ttotal: 2.25s\tremaining: 25.5s\n",
            "81:\tlearn: 0.9432856\ttotal: 2.28s\tremaining: 25.5s\n",
            "82:\tlearn: 0.9419520\ttotal: 2.31s\tremaining: 25.5s\n",
            "83:\tlearn: 0.9403698\ttotal: 2.33s\tremaining: 25.5s\n",
            "84:\tlearn: 0.9393103\ttotal: 2.36s\tremaining: 25.4s\n",
            "85:\tlearn: 0.9382731\ttotal: 2.39s\tremaining: 25.4s\n",
            "86:\tlearn: 0.9375013\ttotal: 2.41s\tremaining: 25.3s\n",
            "87:\tlearn: 0.9368041\ttotal: 2.44s\tremaining: 25.3s\n",
            "88:\tlearn: 0.9359844\ttotal: 2.46s\tremaining: 25.2s\n",
            "89:\tlearn: 0.9352553\ttotal: 2.49s\tremaining: 25.2s\n",
            "90:\tlearn: 0.9343379\ttotal: 2.52s\tremaining: 25.2s\n",
            "91:\tlearn: 0.9333627\ttotal: 2.54s\tremaining: 25.1s\n",
            "92:\tlearn: 0.9324526\ttotal: 2.57s\tremaining: 25.1s\n",
            "93:\tlearn: 0.9321937\ttotal: 2.58s\tremaining: 24.8s\n",
            "94:\tlearn: 0.9309982\ttotal: 2.6s\tremaining: 24.8s\n",
            "95:\tlearn: 0.9300729\ttotal: 2.63s\tremaining: 24.8s\n",
            "96:\tlearn: 0.9290773\ttotal: 2.65s\tremaining: 24.7s\n",
            "97:\tlearn: 0.9281687\ttotal: 2.68s\tremaining: 24.7s\n",
            "98:\tlearn: 0.9275394\ttotal: 2.7s\tremaining: 24.6s\n",
            "99:\tlearn: 0.9263426\ttotal: 2.72s\tremaining: 24.5s\n",
            "100:\tlearn: 0.9251456\ttotal: 2.75s\tremaining: 24.5s\n",
            "101:\tlearn: 0.9246105\ttotal: 2.78s\tremaining: 24.5s\n",
            "102:\tlearn: 0.9235745\ttotal: 2.8s\tremaining: 24.4s\n",
            "103:\tlearn: 0.9224848\ttotal: 2.83s\tremaining: 24.4s\n",
            "104:\tlearn: 0.9218009\ttotal: 2.86s\tremaining: 24.4s\n",
            "105:\tlearn: 0.9206197\ttotal: 2.89s\tremaining: 24.4s\n",
            "106:\tlearn: 0.9198346\ttotal: 2.92s\tremaining: 24.4s\n",
            "107:\tlearn: 0.9187033\ttotal: 2.95s\tremaining: 24.3s\n",
            "108:\tlearn: 0.9174930\ttotal: 2.97s\tremaining: 24.3s\n",
            "109:\tlearn: 0.9165528\ttotal: 3s\tremaining: 24.3s\n",
            "110:\tlearn: 0.9156119\ttotal: 3.02s\tremaining: 24.2s\n",
            "111:\tlearn: 0.9149926\ttotal: 3.05s\tremaining: 24.2s\n",
            "112:\tlearn: 0.9140493\ttotal: 3.08s\tremaining: 24.2s\n",
            "113:\tlearn: 0.9133602\ttotal: 3.11s\tremaining: 24.2s\n",
            "114:\tlearn: 0.9125359\ttotal: 3.13s\tremaining: 24.1s\n",
            "115:\tlearn: 0.9119364\ttotal: 3.16s\tremaining: 24.1s\n",
            "116:\tlearn: 0.9114958\ttotal: 3.18s\tremaining: 24s\n",
            "117:\tlearn: 0.9109840\ttotal: 3.21s\tremaining: 24s\n",
            "118:\tlearn: 0.9102229\ttotal: 3.25s\tremaining: 24s\n",
            "119:\tlearn: 0.9095352\ttotal: 3.28s\tremaining: 24s\n",
            "120:\tlearn: 0.9086169\ttotal: 3.3s\tremaining: 24s\n",
            "121:\tlearn: 0.9078488\ttotal: 3.34s\tremaining: 24s\n",
            "122:\tlearn: 0.9068602\ttotal: 3.36s\tremaining: 24s\n",
            "123:\tlearn: 0.9063009\ttotal: 3.39s\tremaining: 24s\n",
            "124:\tlearn: 0.9052534\ttotal: 3.42s\tremaining: 23.9s\n",
            "125:\tlearn: 0.9045724\ttotal: 3.44s\tremaining: 23.9s\n",
            "126:\tlearn: 0.9036761\ttotal: 3.47s\tremaining: 23.9s\n",
            "127:\tlearn: 0.9026252\ttotal: 3.5s\tremaining: 23.9s\n",
            "128:\tlearn: 0.9018179\ttotal: 3.53s\tremaining: 23.8s\n",
            "129:\tlearn: 0.9008430\ttotal: 3.55s\tremaining: 23.8s\n",
            "130:\tlearn: 0.9001794\ttotal: 3.58s\tremaining: 23.8s\n",
            "131:\tlearn: 0.8994607\ttotal: 3.6s\tremaining: 23.7s\n",
            "132:\tlearn: 0.8987168\ttotal: 3.63s\tremaining: 23.6s\n",
            "133:\tlearn: 0.8982923\ttotal: 3.65s\tremaining: 23.6s\n",
            "134:\tlearn: 0.8980620\ttotal: 3.68s\tremaining: 23.6s\n",
            "135:\tlearn: 0.8974172\ttotal: 3.71s\tremaining: 23.6s\n",
            "136:\tlearn: 0.8973113\ttotal: 3.72s\tremaining: 23.4s\n",
            "137:\tlearn: 0.8964132\ttotal: 3.74s\tremaining: 23.4s\n",
            "138:\tlearn: 0.8955410\ttotal: 3.77s\tremaining: 23.4s\n",
            "139:\tlearn: 0.8948197\ttotal: 3.8s\tremaining: 23.3s\n",
            "140:\tlearn: 0.8940921\ttotal: 3.82s\tremaining: 23.3s\n",
            "141:\tlearn: 0.8930467\ttotal: 3.84s\tremaining: 23.2s\n",
            "142:\tlearn: 0.8925230\ttotal: 3.87s\tremaining: 23.2s\n",
            "143:\tlearn: 0.8918925\ttotal: 3.89s\tremaining: 23.1s\n",
            "144:\tlearn: 0.8910150\ttotal: 3.92s\tremaining: 23.1s\n",
            "145:\tlearn: 0.8902633\ttotal: 3.95s\tremaining: 23.1s\n",
            "146:\tlearn: 0.8892870\ttotal: 3.97s\tremaining: 23.1s\n",
            "147:\tlearn: 0.8887279\ttotal: 4s\tremaining: 23s\n",
            "148:\tlearn: 0.8876589\ttotal: 4.03s\tremaining: 23s\n",
            "149:\tlearn: 0.8869022\ttotal: 4.05s\tremaining: 23s\n",
            "150:\tlearn: 0.8862427\ttotal: 4.08s\tremaining: 22.9s\n",
            "151:\tlearn: 0.8856245\ttotal: 4.1s\tremaining: 22.9s\n",
            "152:\tlearn: 0.8849848\ttotal: 4.13s\tremaining: 22.9s\n",
            "153:\tlearn: 0.8841850\ttotal: 4.15s\tremaining: 22.8s\n",
            "154:\tlearn: 0.8836853\ttotal: 4.18s\tremaining: 22.8s\n",
            "155:\tlearn: 0.8829764\ttotal: 4.21s\tremaining: 22.8s\n",
            "156:\tlearn: 0.8824118\ttotal: 4.23s\tremaining: 22.7s\n",
            "157:\tlearn: 0.8818969\ttotal: 4.26s\tremaining: 22.7s\n",
            "158:\tlearn: 0.8814365\ttotal: 4.29s\tremaining: 22.7s\n",
            "159:\tlearn: 0.8806778\ttotal: 4.31s\tremaining: 22.6s\n",
            "160:\tlearn: 0.8800137\ttotal: 4.35s\tremaining: 22.7s\n",
            "161:\tlearn: 0.8792460\ttotal: 4.38s\tremaining: 22.6s\n",
            "162:\tlearn: 0.8785340\ttotal: 4.4s\tremaining: 22.6s\n",
            "163:\tlearn: 0.8779878\ttotal: 4.43s\tremaining: 22.6s\n",
            "164:\tlearn: 0.8775509\ttotal: 4.45s\tremaining: 22.5s\n",
            "165:\tlearn: 0.8770291\ttotal: 4.48s\tremaining: 22.5s\n",
            "166:\tlearn: 0.8763486\ttotal: 4.51s\tremaining: 22.5s\n",
            "167:\tlearn: 0.8756994\ttotal: 4.53s\tremaining: 22.4s\n",
            "168:\tlearn: 0.8754087\ttotal: 4.56s\tremaining: 22.4s\n",
            "169:\tlearn: 0.8747900\ttotal: 4.58s\tremaining: 22.4s\n",
            "170:\tlearn: 0.8743591\ttotal: 4.61s\tremaining: 22.3s\n",
            "171:\tlearn: 0.8739778\ttotal: 4.63s\tremaining: 22.3s\n",
            "172:\tlearn: 0.8731602\ttotal: 4.66s\tremaining: 22.3s\n",
            "173:\tlearn: 0.8728045\ttotal: 4.68s\tremaining: 22.2s\n",
            "174:\tlearn: 0.8721467\ttotal: 4.7s\tremaining: 22.2s\n",
            "175:\tlearn: 0.8712865\ttotal: 4.73s\tremaining: 22.1s\n",
            "176:\tlearn: 0.8707958\ttotal: 4.75s\tremaining: 22.1s\n",
            "177:\tlearn: 0.8700960\ttotal: 4.78s\tremaining: 22.1s\n",
            "178:\tlearn: 0.8695873\ttotal: 4.81s\tremaining: 22.1s\n",
            "179:\tlearn: 0.8690583\ttotal: 4.83s\tremaining: 22s\n",
            "180:\tlearn: 0.8685832\ttotal: 4.86s\tremaining: 22s\n",
            "181:\tlearn: 0.8678579\ttotal: 4.88s\tremaining: 21.9s\n",
            "182:\tlearn: 0.8672456\ttotal: 4.91s\tremaining: 21.9s\n",
            "183:\tlearn: 0.8666163\ttotal: 4.93s\tremaining: 21.9s\n",
            "184:\tlearn: 0.8655269\ttotal: 4.96s\tremaining: 21.8s\n",
            "185:\tlearn: 0.8649864\ttotal: 4.98s\tremaining: 21.8s\n",
            "186:\tlearn: 0.8643487\ttotal: 5s\tremaining: 21.8s\n",
            "187:\tlearn: 0.8639438\ttotal: 5.03s\tremaining: 21.7s\n",
            "188:\tlearn: 0.8630970\ttotal: 5.05s\tremaining: 21.7s\n",
            "189:\tlearn: 0.8620761\ttotal: 5.08s\tremaining: 21.7s\n",
            "190:\tlearn: 0.8615566\ttotal: 5.11s\tremaining: 21.6s\n",
            "191:\tlearn: 0.8609960\ttotal: 5.13s\tremaining: 21.6s\n",
            "192:\tlearn: 0.8603468\ttotal: 5.16s\tremaining: 21.6s\n",
            "193:\tlearn: 0.8599340\ttotal: 5.18s\tremaining: 21.5s\n",
            "194:\tlearn: 0.8591262\ttotal: 5.21s\tremaining: 21.5s\n",
            "195:\tlearn: 0.8589260\ttotal: 5.24s\tremaining: 21.5s\n",
            "196:\tlearn: 0.8582273\ttotal: 5.27s\tremaining: 21.5s\n",
            "197:\tlearn: 0.8574491\ttotal: 5.29s\tremaining: 21.4s\n",
            "198:\tlearn: 0.8568899\ttotal: 5.32s\tremaining: 21.4s\n",
            "199:\tlearn: 0.8563275\ttotal: 5.35s\tremaining: 21.4s\n",
            "200:\tlearn: 0.8556628\ttotal: 5.38s\tremaining: 21.4s\n",
            "201:\tlearn: 0.8553286\ttotal: 5.4s\tremaining: 21.3s\n",
            "202:\tlearn: 0.8549122\ttotal: 5.43s\tremaining: 21.3s\n",
            "203:\tlearn: 0.8542128\ttotal: 5.46s\tremaining: 21.3s\n",
            "204:\tlearn: 0.8534633\ttotal: 5.48s\tremaining: 21.3s\n",
            "205:\tlearn: 0.8528315\ttotal: 5.5s\tremaining: 21.2s\n",
            "206:\tlearn: 0.8523009\ttotal: 5.53s\tremaining: 21.2s\n",
            "207:\tlearn: 0.8513354\ttotal: 5.56s\tremaining: 21.2s\n",
            "208:\tlearn: 0.8503627\ttotal: 5.58s\tremaining: 21.1s\n",
            "209:\tlearn: 0.8495445\ttotal: 5.61s\tremaining: 21.1s\n",
            "210:\tlearn: 0.8490583\ttotal: 5.64s\tremaining: 21.1s\n",
            "211:\tlearn: 0.8486164\ttotal: 5.66s\tremaining: 21s\n",
            "212:\tlearn: 0.8475575\ttotal: 5.69s\tremaining: 21s\n",
            "213:\tlearn: 0.8471145\ttotal: 5.72s\tremaining: 21s\n",
            "214:\tlearn: 0.8464730\ttotal: 5.74s\tremaining: 21s\n",
            "215:\tlearn: 0.8460705\ttotal: 5.77s\tremaining: 20.9s\n",
            "216:\tlearn: 0.8453558\ttotal: 5.79s\tremaining: 20.9s\n",
            "217:\tlearn: 0.8445695\ttotal: 5.81s\tremaining: 20.8s\n",
            "218:\tlearn: 0.8441404\ttotal: 5.84s\tremaining: 20.8s\n",
            "219:\tlearn: 0.8437017\ttotal: 5.86s\tremaining: 20.8s\n",
            "220:\tlearn: 0.8430550\ttotal: 5.89s\tremaining: 20.8s\n",
            "221:\tlearn: 0.8425590\ttotal: 5.92s\tremaining: 20.7s\n",
            "222:\tlearn: 0.8423614\ttotal: 5.94s\tremaining: 20.7s\n",
            "223:\tlearn: 0.8415755\ttotal: 5.96s\tremaining: 20.7s\n",
            "224:\tlearn: 0.8409771\ttotal: 5.99s\tremaining: 20.6s\n",
            "225:\tlearn: 0.8403068\ttotal: 6.01s\tremaining: 20.6s\n",
            "226:\tlearn: 0.8398586\ttotal: 6.04s\tremaining: 20.6s\n",
            "227:\tlearn: 0.8393382\ttotal: 6.07s\tremaining: 20.5s\n",
            "228:\tlearn: 0.8389940\ttotal: 6.09s\tremaining: 20.5s\n",
            "229:\tlearn: 0.8387530\ttotal: 6.12s\tremaining: 20.5s\n",
            "230:\tlearn: 0.8381492\ttotal: 6.15s\tremaining: 20.5s\n",
            "231:\tlearn: 0.8374534\ttotal: 6.17s\tremaining: 20.4s\n",
            "232:\tlearn: 0.8365942\ttotal: 6.2s\tremaining: 20.4s\n",
            "233:\tlearn: 0.8358542\ttotal: 6.22s\tremaining: 20.4s\n",
            "234:\tlearn: 0.8353953\ttotal: 6.25s\tremaining: 20.4s\n",
            "235:\tlearn: 0.8349220\ttotal: 6.28s\tremaining: 20.3s\n",
            "236:\tlearn: 0.8344455\ttotal: 6.31s\tremaining: 20.3s\n",
            "237:\tlearn: 0.8339394\ttotal: 6.34s\tremaining: 20.3s\n",
            "238:\tlearn: 0.8334609\ttotal: 6.37s\tremaining: 20.3s\n",
            "239:\tlearn: 0.8329646\ttotal: 6.39s\tremaining: 20.3s\n",
            "240:\tlearn: 0.8322828\ttotal: 6.42s\tremaining: 20.2s\n",
            "241:\tlearn: 0.8314123\ttotal: 6.45s\tremaining: 20.2s\n",
            "242:\tlearn: 0.8308943\ttotal: 6.48s\tremaining: 20.2s\n",
            "243:\tlearn: 0.8303688\ttotal: 6.5s\tremaining: 20.1s\n",
            "244:\tlearn: 0.8297711\ttotal: 6.53s\tremaining: 20.1s\n",
            "245:\tlearn: 0.8293917\ttotal: 6.55s\tremaining: 20.1s\n",
            "246:\tlearn: 0.8287679\ttotal: 6.58s\tremaining: 20s\n",
            "247:\tlearn: 0.8285092\ttotal: 6.6s\tremaining: 20s\n",
            "248:\tlearn: 0.8281164\ttotal: 6.62s\tremaining: 20s\n",
            "249:\tlearn: 0.8274980\ttotal: 6.65s\tremaining: 19.9s\n",
            "250:\tlearn: 0.8269032\ttotal: 6.67s\tremaining: 19.9s\n",
            "251:\tlearn: 0.8261920\ttotal: 6.7s\tremaining: 19.9s\n",
            "252:\tlearn: 0.8255133\ttotal: 6.72s\tremaining: 19.9s\n",
            "253:\tlearn: 0.8252714\ttotal: 6.75s\tremaining: 19.8s\n",
            "254:\tlearn: 0.8248891\ttotal: 6.77s\tremaining: 19.8s\n",
            "255:\tlearn: 0.8245402\ttotal: 6.8s\tremaining: 19.8s\n",
            "256:\tlearn: 0.8240082\ttotal: 6.82s\tremaining: 19.7s\n",
            "257:\tlearn: 0.8236834\ttotal: 6.85s\tremaining: 19.7s\n",
            "258:\tlearn: 0.8230454\ttotal: 6.88s\tremaining: 19.7s\n",
            "259:\tlearn: 0.8225091\ttotal: 6.91s\tremaining: 19.7s\n",
            "260:\tlearn: 0.8218521\ttotal: 6.93s\tremaining: 19.6s\n",
            "261:\tlearn: 0.8213654\ttotal: 6.96s\tremaining: 19.6s\n",
            "262:\tlearn: 0.8207825\ttotal: 6.99s\tremaining: 19.6s\n",
            "263:\tlearn: 0.8202861\ttotal: 7.01s\tremaining: 19.6s\n",
            "264:\tlearn: 0.8198145\ttotal: 7.04s\tremaining: 19.5s\n",
            "265:\tlearn: 0.8192023\ttotal: 7.07s\tremaining: 19.5s\n",
            "266:\tlearn: 0.8188370\ttotal: 7.09s\tremaining: 19.5s\n",
            "267:\tlearn: 0.8181689\ttotal: 7.13s\tremaining: 19.5s\n",
            "268:\tlearn: 0.8176358\ttotal: 7.16s\tremaining: 19.5s\n",
            "269:\tlearn: 0.8169558\ttotal: 7.18s\tremaining: 19.4s\n",
            "270:\tlearn: 0.8164911\ttotal: 7.21s\tremaining: 19.4s\n",
            "271:\tlearn: 0.8157167\ttotal: 7.23s\tremaining: 19.4s\n",
            "272:\tlearn: 0.8150414\ttotal: 7.26s\tremaining: 19.3s\n",
            "273:\tlearn: 0.8146338\ttotal: 7.29s\tremaining: 19.3s\n",
            "274:\tlearn: 0.8138812\ttotal: 7.31s\tremaining: 19.3s\n",
            "275:\tlearn: 0.8131173\ttotal: 7.35s\tremaining: 19.3s\n",
            "276:\tlearn: 0.8126067\ttotal: 7.38s\tremaining: 19.3s\n",
            "277:\tlearn: 0.8122172\ttotal: 7.4s\tremaining: 19.2s\n",
            "278:\tlearn: 0.8116319\ttotal: 7.42s\tremaining: 19.2s\n",
            "279:\tlearn: 0.8109101\ttotal: 7.45s\tremaining: 19.2s\n",
            "280:\tlearn: 0.8103086\ttotal: 7.47s\tremaining: 19.1s\n",
            "281:\tlearn: 0.8095161\ttotal: 7.51s\tremaining: 19.1s\n",
            "282:\tlearn: 0.8086795\ttotal: 7.53s\tremaining: 19.1s\n",
            "283:\tlearn: 0.8079961\ttotal: 7.56s\tremaining: 19.1s\n",
            "284:\tlearn: 0.8072218\ttotal: 7.59s\tremaining: 19s\n",
            "285:\tlearn: 0.8067969\ttotal: 7.61s\tremaining: 19s\n",
            "286:\tlearn: 0.8061402\ttotal: 7.64s\tremaining: 19s\n",
            "287:\tlearn: 0.8054939\ttotal: 7.66s\tremaining: 18.9s\n",
            "288:\tlearn: 0.8049564\ttotal: 7.69s\tremaining: 18.9s\n",
            "289:\tlearn: 0.8042933\ttotal: 7.72s\tremaining: 18.9s\n",
            "290:\tlearn: 0.8035530\ttotal: 7.74s\tremaining: 18.9s\n",
            "291:\tlearn: 0.8029835\ttotal: 7.77s\tremaining: 18.8s\n",
            "292:\tlearn: 0.8021112\ttotal: 7.8s\tremaining: 18.8s\n",
            "293:\tlearn: 0.8014292\ttotal: 7.82s\tremaining: 18.8s\n",
            "294:\tlearn: 0.8007009\ttotal: 7.85s\tremaining: 18.8s\n",
            "295:\tlearn: 0.7999660\ttotal: 7.87s\tremaining: 18.7s\n",
            "296:\tlearn: 0.7995469\ttotal: 7.9s\tremaining: 18.7s\n",
            "297:\tlearn: 0.7994133\ttotal: 7.92s\tremaining: 18.7s\n",
            "298:\tlearn: 0.7987773\ttotal: 7.95s\tremaining: 18.6s\n",
            "299:\tlearn: 0.7982758\ttotal: 7.98s\tremaining: 18.6s\n",
            "300:\tlearn: 0.7976149\ttotal: 8.01s\tremaining: 18.6s\n",
            "301:\tlearn: 0.7969030\ttotal: 8.03s\tremaining: 18.6s\n",
            "302:\tlearn: 0.7961070\ttotal: 8.06s\tremaining: 18.5s\n",
            "303:\tlearn: 0.7955403\ttotal: 8.08s\tremaining: 18.5s\n",
            "304:\tlearn: 0.7948702\ttotal: 8.11s\tremaining: 18.5s\n",
            "305:\tlearn: 0.7942759\ttotal: 8.14s\tremaining: 18.5s\n",
            "306:\tlearn: 0.7937132\ttotal: 8.16s\tremaining: 18.4s\n",
            "307:\tlearn: 0.7932327\ttotal: 8.19s\tremaining: 18.4s\n",
            "308:\tlearn: 0.7923742\ttotal: 8.22s\tremaining: 18.4s\n",
            "309:\tlearn: 0.7915849\ttotal: 8.24s\tremaining: 18.3s\n",
            "310:\tlearn: 0.7909317\ttotal: 8.27s\tremaining: 18.3s\n",
            "311:\tlearn: 0.7899981\ttotal: 8.29s\tremaining: 18.3s\n",
            "312:\tlearn: 0.7893833\ttotal: 8.32s\tremaining: 18.3s\n",
            "313:\tlearn: 0.7885793\ttotal: 8.34s\tremaining: 18.2s\n",
            "314:\tlearn: 0.7883136\ttotal: 8.37s\tremaining: 18.2s\n",
            "315:\tlearn: 0.7878062\ttotal: 8.4s\tremaining: 18.2s\n",
            "316:\tlearn: 0.7870795\ttotal: 8.43s\tremaining: 18.2s\n",
            "317:\tlearn: 0.7862453\ttotal: 8.45s\tremaining: 18.1s\n",
            "318:\tlearn: 0.7852933\ttotal: 8.48s\tremaining: 18.1s\n",
            "319:\tlearn: 0.7846799\ttotal: 8.51s\tremaining: 18.1s\n",
            "320:\tlearn: 0.7838616\ttotal: 8.54s\tremaining: 18.1s\n",
            "321:\tlearn: 0.7831782\ttotal: 8.56s\tremaining: 18s\n",
            "322:\tlearn: 0.7828215\ttotal: 8.59s\tremaining: 18s\n",
            "323:\tlearn: 0.7821711\ttotal: 8.62s\tremaining: 18s\n",
            "324:\tlearn: 0.7815490\ttotal: 8.64s\tremaining: 17.9s\n",
            "325:\tlearn: 0.7810304\ttotal: 8.67s\tremaining: 17.9s\n",
            "326:\tlearn: 0.7806071\ttotal: 8.69s\tremaining: 17.9s\n",
            "327:\tlearn: 0.7799522\ttotal: 8.72s\tremaining: 17.9s\n",
            "328:\tlearn: 0.7790626\ttotal: 8.74s\tremaining: 17.8s\n",
            "329:\tlearn: 0.7784540\ttotal: 8.77s\tremaining: 17.8s\n",
            "330:\tlearn: 0.7778370\ttotal: 8.79s\tremaining: 17.8s\n",
            "331:\tlearn: 0.7770793\ttotal: 8.82s\tremaining: 17.7s\n",
            "332:\tlearn: 0.7762968\ttotal: 8.84s\tremaining: 17.7s\n",
            "333:\tlearn: 0.7755304\ttotal: 8.87s\tremaining: 17.7s\n",
            "334:\tlearn: 0.7751569\ttotal: 8.89s\tremaining: 17.7s\n",
            "335:\tlearn: 0.7745172\ttotal: 8.92s\tremaining: 17.6s\n",
            "336:\tlearn: 0.7738084\ttotal: 8.95s\tremaining: 17.6s\n",
            "337:\tlearn: 0.7731066\ttotal: 8.98s\tremaining: 17.6s\n",
            "338:\tlearn: 0.7724107\ttotal: 9s\tremaining: 17.6s\n",
            "339:\tlearn: 0.7717116\ttotal: 9.03s\tremaining: 17.5s\n",
            "340:\tlearn: 0.7711681\ttotal: 9.05s\tremaining: 17.5s\n",
            "341:\tlearn: 0.7703947\ttotal: 9.08s\tremaining: 17.5s\n",
            "342:\tlearn: 0.7697282\ttotal: 9.11s\tremaining: 17.4s\n",
            "343:\tlearn: 0.7690849\ttotal: 9.13s\tremaining: 17.4s\n",
            "344:\tlearn: 0.7686133\ttotal: 9.16s\tremaining: 17.4s\n",
            "345:\tlearn: 0.7677025\ttotal: 9.19s\tremaining: 17.4s\n",
            "346:\tlearn: 0.7670587\ttotal: 9.21s\tremaining: 17.3s\n",
            "347:\tlearn: 0.7666154\ttotal: 9.24s\tremaining: 17.3s\n",
            "348:\tlearn: 0.7660411\ttotal: 9.26s\tremaining: 17.3s\n",
            "349:\tlearn: 0.7655195\ttotal: 9.29s\tremaining: 17.3s\n",
            "350:\tlearn: 0.7647879\ttotal: 9.32s\tremaining: 17.2s\n",
            "351:\tlearn: 0.7640408\ttotal: 9.35s\tremaining: 17.2s\n",
            "352:\tlearn: 0.7633717\ttotal: 9.38s\tremaining: 17.2s\n",
            "353:\tlearn: 0.7626180\ttotal: 9.4s\tremaining: 17.2s\n",
            "354:\tlearn: 0.7623257\ttotal: 9.43s\tremaining: 17.1s\n",
            "355:\tlearn: 0.7617765\ttotal: 9.46s\tremaining: 17.1s\n",
            "356:\tlearn: 0.7610487\ttotal: 9.48s\tremaining: 17.1s\n",
            "357:\tlearn: 0.7600731\ttotal: 9.51s\tremaining: 17.1s\n",
            "358:\tlearn: 0.7592226\ttotal: 9.53s\tremaining: 17s\n",
            "359:\tlearn: 0.7586796\ttotal: 9.56s\tremaining: 17s\n",
            "360:\tlearn: 0.7579923\ttotal: 9.58s\tremaining: 17s\n",
            "361:\tlearn: 0.7572283\ttotal: 9.61s\tremaining: 16.9s\n",
            "362:\tlearn: 0.7564873\ttotal: 9.64s\tremaining: 16.9s\n",
            "363:\tlearn: 0.7561460\ttotal: 9.67s\tremaining: 16.9s\n",
            "364:\tlearn: 0.7553876\ttotal: 9.7s\tremaining: 16.9s\n",
            "365:\tlearn: 0.7547459\ttotal: 9.72s\tremaining: 16.8s\n",
            "366:\tlearn: 0.7541151\ttotal: 9.74s\tremaining: 16.8s\n",
            "367:\tlearn: 0.7534973\ttotal: 9.77s\tremaining: 16.8s\n",
            "368:\tlearn: 0.7530540\ttotal: 9.8s\tremaining: 16.8s\n",
            "369:\tlearn: 0.7522318\ttotal: 9.82s\tremaining: 16.7s\n",
            "370:\tlearn: 0.7515514\ttotal: 9.85s\tremaining: 16.7s\n",
            "371:\tlearn: 0.7510750\ttotal: 9.88s\tremaining: 16.7s\n",
            "372:\tlearn: 0.7505249\ttotal: 9.9s\tremaining: 16.6s\n",
            "373:\tlearn: 0.7501606\ttotal: 9.93s\tremaining: 16.6s\n",
            "374:\tlearn: 0.7495223\ttotal: 9.95s\tremaining: 16.6s\n",
            "375:\tlearn: 0.7489209\ttotal: 9.98s\tremaining: 16.6s\n",
            "376:\tlearn: 0.7482879\ttotal: 10s\tremaining: 16.5s\n",
            "377:\tlearn: 0.7477693\ttotal: 10s\tremaining: 16.5s\n",
            "378:\tlearn: 0.7471432\ttotal: 10.1s\tremaining: 16.5s\n",
            "379:\tlearn: 0.7466429\ttotal: 10.1s\tremaining: 16.5s\n",
            "380:\tlearn: 0.7458095\ttotal: 10.1s\tremaining: 16.5s\n",
            "381:\tlearn: 0.7451611\ttotal: 10.2s\tremaining: 16.5s\n",
            "382:\tlearn: 0.7444331\ttotal: 10.2s\tremaining: 16.5s\n",
            "383:\tlearn: 0.7436592\ttotal: 10.3s\tremaining: 16.5s\n",
            "384:\tlearn: 0.7433138\ttotal: 10.3s\tremaining: 16.5s\n",
            "385:\tlearn: 0.7427697\ttotal: 10.4s\tremaining: 16.5s\n",
            "386:\tlearn: 0.7423484\ttotal: 10.4s\tremaining: 16.5s\n",
            "387:\tlearn: 0.7416239\ttotal: 10.5s\tremaining: 16.5s\n",
            "388:\tlearn: 0.7412532\ttotal: 10.5s\tremaining: 16.5s\n",
            "389:\tlearn: 0.7406048\ttotal: 10.6s\tremaining: 16.6s\n",
            "390:\tlearn: 0.7401817\ttotal: 10.6s\tremaining: 16.6s\n",
            "391:\tlearn: 0.7395993\ttotal: 10.7s\tremaining: 16.6s\n",
            "392:\tlearn: 0.7384716\ttotal: 10.7s\tremaining: 16.6s\n",
            "393:\tlearn: 0.7377299\ttotal: 10.8s\tremaining: 16.6s\n",
            "394:\tlearn: 0.7372931\ttotal: 10.8s\tremaining: 16.6s\n",
            "395:\tlearn: 0.7367473\ttotal: 10.9s\tremaining: 16.6s\n",
            "396:\tlearn: 0.7365448\ttotal: 11s\tremaining: 16.6s\n",
            "397:\tlearn: 0.7360703\ttotal: 11s\tremaining: 16.6s\n",
            "398:\tlearn: 0.7354322\ttotal: 11.1s\tremaining: 16.7s\n",
            "399:\tlearn: 0.7349124\ttotal: 11.1s\tremaining: 16.7s\n",
            "400:\tlearn: 0.7344824\ttotal: 11.2s\tremaining: 16.7s\n",
            "401:\tlearn: 0.7339819\ttotal: 11.2s\tremaining: 16.7s\n",
            "402:\tlearn: 0.7335068\ttotal: 11.3s\tremaining: 16.7s\n",
            "403:\tlearn: 0.7326390\ttotal: 11.3s\tremaining: 16.7s\n",
            "404:\tlearn: 0.7321861\ttotal: 11.4s\tremaining: 16.7s\n",
            "405:\tlearn: 0.7316048\ttotal: 11.4s\tremaining: 16.7s\n",
            "406:\tlearn: 0.7311195\ttotal: 11.5s\tremaining: 16.7s\n",
            "407:\tlearn: 0.7305120\ttotal: 11.5s\tremaining: 16.7s\n",
            "408:\tlearn: 0.7296898\ttotal: 11.6s\tremaining: 16.7s\n",
            "409:\tlearn: 0.7289732\ttotal: 11.6s\tremaining: 16.7s\n",
            "410:\tlearn: 0.7283437\ttotal: 11.7s\tremaining: 16.7s\n",
            "411:\tlearn: 0.7279983\ttotal: 11.7s\tremaining: 16.7s\n",
            "412:\tlearn: 0.7275703\ttotal: 11.8s\tremaining: 16.7s\n",
            "413:\tlearn: 0.7270644\ttotal: 11.8s\tremaining: 16.7s\n",
            "414:\tlearn: 0.7267251\ttotal: 11.9s\tremaining: 16.8s\n",
            "415:\tlearn: 0.7259602\ttotal: 11.9s\tremaining: 16.8s\n",
            "416:\tlearn: 0.7252264\ttotal: 12s\tremaining: 16.8s\n",
            "417:\tlearn: 0.7246449\ttotal: 12.1s\tremaining: 16.8s\n",
            "418:\tlearn: 0.7242198\ttotal: 12.1s\tremaining: 16.8s\n",
            "419:\tlearn: 0.7239455\ttotal: 12.2s\tremaining: 16.8s\n",
            "420:\tlearn: 0.7232493\ttotal: 12.2s\tremaining: 16.8s\n",
            "421:\tlearn: 0.7225144\ttotal: 12.3s\tremaining: 16.9s\n",
            "422:\tlearn: 0.7218669\ttotal: 12.4s\tremaining: 16.9s\n",
            "423:\tlearn: 0.7213328\ttotal: 12.4s\tremaining: 16.9s\n",
            "424:\tlearn: 0.7207420\ttotal: 12.5s\tremaining: 16.9s\n",
            "425:\tlearn: 0.7202427\ttotal: 12.5s\tremaining: 16.9s\n",
            "426:\tlearn: 0.7197830\ttotal: 12.6s\tremaining: 16.9s\n",
            "427:\tlearn: 0.7192012\ttotal: 12.7s\tremaining: 16.9s\n",
            "428:\tlearn: 0.7185293\ttotal: 12.7s\tremaining: 16.9s\n",
            "429:\tlearn: 0.7178789\ttotal: 12.8s\tremaining: 16.9s\n",
            "430:\tlearn: 0.7172695\ttotal: 12.8s\tremaining: 16.9s\n",
            "431:\tlearn: 0.7168568\ttotal: 12.9s\tremaining: 16.9s\n",
            "432:\tlearn: 0.7163540\ttotal: 12.9s\tremaining: 16.9s\n",
            "433:\tlearn: 0.7160267\ttotal: 13s\tremaining: 16.9s\n",
            "434:\tlearn: 0.7153613\ttotal: 13s\tremaining: 16.9s\n",
            "435:\tlearn: 0.7147027\ttotal: 13.1s\tremaining: 16.9s\n",
            "436:\tlearn: 0.7140252\ttotal: 13.1s\tremaining: 16.9s\n",
            "437:\tlearn: 0.7133656\ttotal: 13.2s\tremaining: 16.9s\n",
            "438:\tlearn: 0.7127836\ttotal: 13.3s\tremaining: 17s\n",
            "439:\tlearn: 0.7124188\ttotal: 13.3s\tremaining: 16.9s\n",
            "440:\tlearn: 0.7118740\ttotal: 13.3s\tremaining: 16.9s\n",
            "441:\tlearn: 0.7110342\ttotal: 13.4s\tremaining: 16.9s\n",
            "442:\tlearn: 0.7106004\ttotal: 13.4s\tremaining: 16.8s\n",
            "443:\tlearn: 0.7100707\ttotal: 13.4s\tremaining: 16.8s\n",
            "444:\tlearn: 0.7095377\ttotal: 13.4s\tremaining: 16.8s\n",
            "445:\tlearn: 0.7090549\ttotal: 13.5s\tremaining: 16.7s\n",
            "446:\tlearn: 0.7083426\ttotal: 13.5s\tremaining: 16.7s\n",
            "447:\tlearn: 0.7078687\ttotal: 13.5s\tremaining: 16.7s\n",
            "448:\tlearn: 0.7072444\ttotal: 13.5s\tremaining: 16.6s\n",
            "449:\tlearn: 0.7068514\ttotal: 13.6s\tremaining: 16.6s\n",
            "450:\tlearn: 0.7063084\ttotal: 13.6s\tremaining: 16.6s\n",
            "451:\tlearn: 0.7056778\ttotal: 13.6s\tremaining: 16.5s\n",
            "452:\tlearn: 0.7051734\ttotal: 13.7s\tremaining: 16.5s\n",
            "453:\tlearn: 0.7047186\ttotal: 13.7s\tremaining: 16.4s\n",
            "454:\tlearn: 0.7042758\ttotal: 13.7s\tremaining: 16.4s\n",
            "455:\tlearn: 0.7037922\ttotal: 13.7s\tremaining: 16.4s\n",
            "456:\tlearn: 0.7032275\ttotal: 13.8s\tremaining: 16.3s\n",
            "457:\tlearn: 0.7027434\ttotal: 13.8s\tremaining: 16.3s\n",
            "458:\tlearn: 0.7024282\ttotal: 13.8s\tremaining: 16.3s\n",
            "459:\tlearn: 0.7021372\ttotal: 13.8s\tremaining: 16.2s\n",
            "460:\tlearn: 0.7017184\ttotal: 13.9s\tremaining: 16.2s\n",
            "461:\tlearn: 0.7012998\ttotal: 13.9s\tremaining: 16.2s\n",
            "462:\tlearn: 0.7009152\ttotal: 13.9s\tremaining: 16.1s\n",
            "463:\tlearn: 0.7004011\ttotal: 13.9s\tremaining: 16.1s\n",
            "464:\tlearn: 0.6997787\ttotal: 14s\tremaining: 16.1s\n",
            "465:\tlearn: 0.6993715\ttotal: 14s\tremaining: 16s\n",
            "466:\tlearn: 0.6989815\ttotal: 14s\tremaining: 16s\n",
            "467:\tlearn: 0.6984492\ttotal: 14.1s\tremaining: 16s\n",
            "468:\tlearn: 0.6978784\ttotal: 14.1s\tremaining: 15.9s\n",
            "469:\tlearn: 0.6973417\ttotal: 14.1s\tremaining: 15.9s\n",
            "470:\tlearn: 0.6967943\ttotal: 14.1s\tremaining: 15.9s\n",
            "471:\tlearn: 0.6961996\ttotal: 14.2s\tremaining: 15.8s\n",
            "472:\tlearn: 0.6955616\ttotal: 14.2s\tremaining: 15.8s\n",
            "473:\tlearn: 0.6950193\ttotal: 14.2s\tremaining: 15.8s\n",
            "474:\tlearn: 0.6944831\ttotal: 14.2s\tremaining: 15.7s\n",
            "475:\tlearn: 0.6941008\ttotal: 14.3s\tremaining: 15.7s\n",
            "476:\tlearn: 0.6937158\ttotal: 14.3s\tremaining: 15.7s\n",
            "477:\tlearn: 0.6931224\ttotal: 14.3s\tremaining: 15.6s\n",
            "478:\tlearn: 0.6923460\ttotal: 14.4s\tremaining: 15.6s\n",
            "479:\tlearn: 0.6917351\ttotal: 14.4s\tremaining: 15.6s\n",
            "480:\tlearn: 0.6911832\ttotal: 14.4s\tremaining: 15.5s\n",
            "481:\tlearn: 0.6908089\ttotal: 14.4s\tremaining: 15.5s\n",
            "482:\tlearn: 0.6901537\ttotal: 14.5s\tremaining: 15.5s\n",
            "483:\tlearn: 0.6896476\ttotal: 14.5s\tremaining: 15.5s\n",
            "484:\tlearn: 0.6892878\ttotal: 14.5s\tremaining: 15.4s\n",
            "485:\tlearn: 0.6889486\ttotal: 14.5s\tremaining: 15.4s\n",
            "486:\tlearn: 0.6887118\ttotal: 14.6s\tremaining: 15.4s\n",
            "487:\tlearn: 0.6879228\ttotal: 14.6s\tremaining: 15.3s\n",
            "488:\tlearn: 0.6874885\ttotal: 14.6s\tremaining: 15.3s\n",
            "489:\tlearn: 0.6871206\ttotal: 14.7s\tremaining: 15.3s\n",
            "490:\tlearn: 0.6864392\ttotal: 14.7s\tremaining: 15.2s\n",
            "491:\tlearn: 0.6855349\ttotal: 14.7s\tremaining: 15.2s\n",
            "492:\tlearn: 0.6849800\ttotal: 14.7s\tremaining: 15.2s\n",
            "493:\tlearn: 0.6844488\ttotal: 14.8s\tremaining: 15.1s\n",
            "494:\tlearn: 0.6837058\ttotal: 14.8s\tremaining: 15.1s\n",
            "495:\tlearn: 0.6832465\ttotal: 14.8s\tremaining: 15.1s\n",
            "496:\tlearn: 0.6826877\ttotal: 14.8s\tremaining: 15s\n",
            "497:\tlearn: 0.6821452\ttotal: 14.9s\tremaining: 15s\n",
            "498:\tlearn: 0.6813365\ttotal: 14.9s\tremaining: 15s\n",
            "499:\tlearn: 0.6809601\ttotal: 14.9s\tremaining: 14.9s\n",
            "500:\tlearn: 0.6802554\ttotal: 15s\tremaining: 14.9s\n",
            "501:\tlearn: 0.6798414\ttotal: 15s\tremaining: 14.9s\n",
            "502:\tlearn: 0.6795309\ttotal: 15s\tremaining: 14.8s\n",
            "503:\tlearn: 0.6790903\ttotal: 15s\tremaining: 14.8s\n",
            "504:\tlearn: 0.6785120\ttotal: 15.1s\tremaining: 14.8s\n",
            "505:\tlearn: 0.6780649\ttotal: 15.1s\tremaining: 14.7s\n",
            "506:\tlearn: 0.6773594\ttotal: 15.1s\tremaining: 14.7s\n",
            "507:\tlearn: 0.6769021\ttotal: 15.2s\tremaining: 14.7s\n",
            "508:\tlearn: 0.6764796\ttotal: 15.2s\tremaining: 14.6s\n",
            "509:\tlearn: 0.6757888\ttotal: 15.2s\tremaining: 14.6s\n",
            "510:\tlearn: 0.6754455\ttotal: 15.2s\tremaining: 14.6s\n",
            "511:\tlearn: 0.6749388\ttotal: 15.2s\tremaining: 14.5s\n",
            "512:\tlearn: 0.6746197\ttotal: 15.3s\tremaining: 14.5s\n",
            "513:\tlearn: 0.6742223\ttotal: 15.3s\tremaining: 14.5s\n",
            "514:\tlearn: 0.6736759\ttotal: 15.3s\tremaining: 14.4s\n",
            "515:\tlearn: 0.6731139\ttotal: 15.4s\tremaining: 14.4s\n",
            "516:\tlearn: 0.6726342\ttotal: 15.4s\tremaining: 14.4s\n",
            "517:\tlearn: 0.6720212\ttotal: 15.4s\tremaining: 14.3s\n",
            "518:\tlearn: 0.6715420\ttotal: 15.4s\tremaining: 14.3s\n",
            "519:\tlearn: 0.6709299\ttotal: 15.5s\tremaining: 14.3s\n",
            "520:\tlearn: 0.6705198\ttotal: 15.5s\tremaining: 14.2s\n",
            "521:\tlearn: 0.6701466\ttotal: 15.5s\tremaining: 14.2s\n",
            "522:\tlearn: 0.6695630\ttotal: 15.6s\tremaining: 14.2s\n",
            "523:\tlearn: 0.6689668\ttotal: 15.6s\tremaining: 14.2s\n",
            "524:\tlearn: 0.6688727\ttotal: 15.6s\tremaining: 14.1s\n",
            "525:\tlearn: 0.6684832\ttotal: 15.6s\tremaining: 14.1s\n",
            "526:\tlearn: 0.6682851\ttotal: 15.7s\tremaining: 14.1s\n",
            "527:\tlearn: 0.6680540\ttotal: 15.7s\tremaining: 14s\n",
            "528:\tlearn: 0.6676116\ttotal: 15.7s\tremaining: 14s\n",
            "529:\tlearn: 0.6673724\ttotal: 15.7s\tremaining: 14s\n",
            "530:\tlearn: 0.6668908\ttotal: 15.8s\tremaining: 13.9s\n",
            "531:\tlearn: 0.6664750\ttotal: 15.8s\tremaining: 13.9s\n",
            "532:\tlearn: 0.6659977\ttotal: 15.8s\tremaining: 13.9s\n",
            "533:\tlearn: 0.6653867\ttotal: 15.9s\tremaining: 13.8s\n",
            "534:\tlearn: 0.6650237\ttotal: 15.9s\tremaining: 13.8s\n",
            "535:\tlearn: 0.6645927\ttotal: 15.9s\tremaining: 13.8s\n",
            "536:\tlearn: 0.6642043\ttotal: 15.9s\tremaining: 13.7s\n",
            "537:\tlearn: 0.6635995\ttotal: 16s\tremaining: 13.7s\n",
            "538:\tlearn: 0.6633820\ttotal: 16s\tremaining: 13.7s\n",
            "539:\tlearn: 0.6627957\ttotal: 16s\tremaining: 13.6s\n",
            "540:\tlearn: 0.6621500\ttotal: 16s\tremaining: 13.6s\n",
            "541:\tlearn: 0.6618925\ttotal: 16.1s\tremaining: 13.6s\n",
            "542:\tlearn: 0.6615829\ttotal: 16.1s\tremaining: 13.5s\n",
            "543:\tlearn: 0.6612080\ttotal: 16.1s\tremaining: 13.5s\n",
            "544:\tlearn: 0.6609344\ttotal: 16.1s\tremaining: 13.5s\n",
            "545:\tlearn: 0.6605880\ttotal: 16.2s\tremaining: 13.4s\n",
            "546:\tlearn: 0.6603072\ttotal: 16.2s\tremaining: 13.4s\n",
            "547:\tlearn: 0.6598628\ttotal: 16.2s\tremaining: 13.4s\n",
            "548:\tlearn: 0.6592280\ttotal: 16.3s\tremaining: 13.4s\n",
            "549:\tlearn: 0.6587721\ttotal: 16.3s\tremaining: 13.3s\n",
            "550:\tlearn: 0.6583828\ttotal: 16.3s\tremaining: 13.3s\n",
            "551:\tlearn: 0.6579467\ttotal: 16.3s\tremaining: 13.3s\n",
            "552:\tlearn: 0.6576343\ttotal: 16.4s\tremaining: 13.2s\n",
            "553:\tlearn: 0.6568767\ttotal: 16.4s\tremaining: 13.2s\n",
            "554:\tlearn: 0.6562066\ttotal: 16.4s\tremaining: 13.2s\n",
            "555:\tlearn: 0.6556957\ttotal: 16.4s\tremaining: 13.1s\n",
            "556:\tlearn: 0.6550231\ttotal: 16.5s\tremaining: 13.1s\n",
            "557:\tlearn: 0.6546419\ttotal: 16.5s\tremaining: 13.1s\n",
            "558:\tlearn: 0.6539024\ttotal: 16.5s\tremaining: 13s\n",
            "559:\tlearn: 0.6534743\ttotal: 16.5s\tremaining: 13s\n",
            "560:\tlearn: 0.6532224\ttotal: 16.6s\tremaining: 13s\n",
            "561:\tlearn: 0.6529962\ttotal: 16.6s\tremaining: 12.9s\n",
            "562:\tlearn: 0.6525514\ttotal: 16.6s\tremaining: 12.9s\n",
            "563:\tlearn: 0.6522474\ttotal: 16.6s\tremaining: 12.9s\n",
            "564:\tlearn: 0.6519747\ttotal: 16.7s\tremaining: 12.8s\n",
            "565:\tlearn: 0.6513276\ttotal: 16.7s\tremaining: 12.8s\n",
            "566:\tlearn: 0.6510467\ttotal: 16.7s\tremaining: 12.8s\n",
            "567:\tlearn: 0.6504173\ttotal: 16.8s\tremaining: 12.7s\n",
            "568:\tlearn: 0.6500556\ttotal: 16.8s\tremaining: 12.7s\n",
            "569:\tlearn: 0.6493581\ttotal: 16.8s\tremaining: 12.7s\n",
            "570:\tlearn: 0.6489205\ttotal: 16.8s\tremaining: 12.6s\n",
            "571:\tlearn: 0.6486490\ttotal: 16.9s\tremaining: 12.6s\n",
            "572:\tlearn: 0.6481076\ttotal: 16.9s\tremaining: 12.6s\n",
            "573:\tlearn: 0.6477032\ttotal: 16.9s\tremaining: 12.6s\n",
            "574:\tlearn: 0.6473998\ttotal: 16.9s\tremaining: 12.5s\n",
            "575:\tlearn: 0.6472199\ttotal: 17s\tremaining: 12.5s\n",
            "576:\tlearn: 0.6469237\ttotal: 17s\tremaining: 12.5s\n",
            "577:\tlearn: 0.6461847\ttotal: 17s\tremaining: 12.4s\n",
            "578:\tlearn: 0.6456214\ttotal: 17.1s\tremaining: 12.4s\n",
            "579:\tlearn: 0.6452964\ttotal: 17.1s\tremaining: 12.4s\n",
            "580:\tlearn: 0.6446753\ttotal: 17.1s\tremaining: 12.3s\n",
            "581:\tlearn: 0.6442492\ttotal: 17.1s\tremaining: 12.3s\n",
            "582:\tlearn: 0.6437716\ttotal: 17.2s\tremaining: 12.3s\n",
            "583:\tlearn: 0.6433472\ttotal: 17.2s\tremaining: 12.2s\n",
            "584:\tlearn: 0.6429191\ttotal: 17.2s\tremaining: 12.2s\n",
            "585:\tlearn: 0.6425235\ttotal: 17.2s\tremaining: 12.2s\n",
            "586:\tlearn: 0.6419393\ttotal: 17.3s\tremaining: 12.2s\n",
            "587:\tlearn: 0.6413010\ttotal: 17.3s\tremaining: 12.1s\n",
            "588:\tlearn: 0.6409803\ttotal: 17.3s\tremaining: 12.1s\n",
            "589:\tlearn: 0.6406587\ttotal: 17.4s\tremaining: 12.1s\n",
            "590:\tlearn: 0.6401661\ttotal: 17.4s\tremaining: 12s\n",
            "591:\tlearn: 0.6395459\ttotal: 17.4s\tremaining: 12s\n",
            "592:\tlearn: 0.6391051\ttotal: 17.4s\tremaining: 12s\n",
            "593:\tlearn: 0.6390197\ttotal: 17.5s\tremaining: 11.9s\n",
            "594:\tlearn: 0.6383251\ttotal: 17.5s\tremaining: 11.9s\n",
            "595:\tlearn: 0.6377450\ttotal: 17.5s\tremaining: 11.9s\n",
            "596:\tlearn: 0.6371947\ttotal: 17.5s\tremaining: 11.8s\n",
            "597:\tlearn: 0.6365270\ttotal: 17.6s\tremaining: 11.8s\n",
            "598:\tlearn: 0.6360559\ttotal: 17.6s\tremaining: 11.8s\n",
            "599:\tlearn: 0.6356695\ttotal: 17.6s\tremaining: 11.7s\n",
            "600:\tlearn: 0.6352130\ttotal: 17.6s\tremaining: 11.7s\n",
            "601:\tlearn: 0.6345043\ttotal: 17.7s\tremaining: 11.7s\n",
            "602:\tlearn: 0.6340910\ttotal: 17.7s\tremaining: 11.6s\n",
            "603:\tlearn: 0.6336921\ttotal: 17.7s\tremaining: 11.6s\n",
            "604:\tlearn: 0.6332887\ttotal: 17.7s\tremaining: 11.6s\n",
            "605:\tlearn: 0.6329614\ttotal: 17.8s\tremaining: 11.6s\n",
            "606:\tlearn: 0.6322066\ttotal: 17.8s\tremaining: 11.5s\n",
            "607:\tlearn: 0.6316990\ttotal: 17.8s\tremaining: 11.5s\n",
            "608:\tlearn: 0.6313819\ttotal: 17.9s\tremaining: 11.5s\n",
            "609:\tlearn: 0.6309997\ttotal: 17.9s\tremaining: 11.4s\n",
            "610:\tlearn: 0.6307279\ttotal: 17.9s\tremaining: 11.4s\n",
            "611:\tlearn: 0.6303329\ttotal: 17.9s\tremaining: 11.4s\n",
            "612:\tlearn: 0.6296378\ttotal: 18s\tremaining: 11.3s\n",
            "613:\tlearn: 0.6290209\ttotal: 18s\tremaining: 11.3s\n",
            "614:\tlearn: 0.6286106\ttotal: 18s\tremaining: 11.3s\n",
            "615:\tlearn: 0.6283164\ttotal: 18s\tremaining: 11.3s\n",
            "616:\tlearn: 0.6276076\ttotal: 18.1s\tremaining: 11.2s\n",
            "617:\tlearn: 0.6270486\ttotal: 18.1s\tremaining: 11.2s\n",
            "618:\tlearn: 0.6265538\ttotal: 18.1s\tremaining: 11.2s\n",
            "619:\tlearn: 0.6257221\ttotal: 18.2s\tremaining: 11.1s\n",
            "620:\tlearn: 0.6254034\ttotal: 18.2s\tremaining: 11.1s\n",
            "621:\tlearn: 0.6249110\ttotal: 18.2s\tremaining: 11.1s\n",
            "622:\tlearn: 0.6244331\ttotal: 18.2s\tremaining: 11s\n",
            "623:\tlearn: 0.6238532\ttotal: 18.3s\tremaining: 11s\n",
            "624:\tlearn: 0.6234440\ttotal: 18.3s\tremaining: 11s\n",
            "625:\tlearn: 0.6229414\ttotal: 18.3s\tremaining: 10.9s\n",
            "626:\tlearn: 0.6224215\ttotal: 18.3s\tremaining: 10.9s\n",
            "627:\tlearn: 0.6219567\ttotal: 18.4s\tremaining: 10.9s\n",
            "628:\tlearn: 0.6214012\ttotal: 18.4s\tremaining: 10.8s\n",
            "629:\tlearn: 0.6210198\ttotal: 18.4s\tremaining: 10.8s\n",
            "630:\tlearn: 0.6207490\ttotal: 18.5s\tremaining: 10.8s\n",
            "631:\tlearn: 0.6202878\ttotal: 18.5s\tremaining: 10.8s\n",
            "632:\tlearn: 0.6200781\ttotal: 18.5s\tremaining: 10.7s\n",
            "633:\tlearn: 0.6195087\ttotal: 18.5s\tremaining: 10.7s\n",
            "634:\tlearn: 0.6188281\ttotal: 18.6s\tremaining: 10.7s\n",
            "635:\tlearn: 0.6185243\ttotal: 18.6s\tremaining: 10.6s\n",
            "636:\tlearn: 0.6182653\ttotal: 18.6s\tremaining: 10.6s\n",
            "637:\tlearn: 0.6176948\ttotal: 18.6s\tremaining: 10.6s\n",
            "638:\tlearn: 0.6173898\ttotal: 18.7s\tremaining: 10.5s\n",
            "639:\tlearn: 0.6170599\ttotal: 18.7s\tremaining: 10.5s\n",
            "640:\tlearn: 0.6167763\ttotal: 18.7s\tremaining: 10.5s\n",
            "641:\tlearn: 0.6163298\ttotal: 18.8s\tremaining: 10.5s\n",
            "642:\tlearn: 0.6159590\ttotal: 18.8s\tremaining: 10.4s\n",
            "643:\tlearn: 0.6155208\ttotal: 18.8s\tremaining: 10.4s\n",
            "644:\tlearn: 0.6149212\ttotal: 18.8s\tremaining: 10.4s\n",
            "645:\tlearn: 0.6144191\ttotal: 18.9s\tremaining: 10.3s\n",
            "646:\tlearn: 0.6138026\ttotal: 18.9s\tremaining: 10.3s\n",
            "647:\tlearn: 0.6134497\ttotal: 18.9s\tremaining: 10.3s\n",
            "648:\tlearn: 0.6129812\ttotal: 18.9s\tremaining: 10.2s\n",
            "649:\tlearn: 0.6125842\ttotal: 19s\tremaining: 10.2s\n",
            "650:\tlearn: 0.6122780\ttotal: 19s\tremaining: 10.2s\n",
            "651:\tlearn: 0.6117362\ttotal: 19s\tremaining: 10.2s\n",
            "652:\tlearn: 0.6109524\ttotal: 19.1s\tremaining: 10.1s\n",
            "653:\tlearn: 0.6105940\ttotal: 19.1s\tremaining: 10.1s\n",
            "654:\tlearn: 0.6102652\ttotal: 19.1s\tremaining: 10.1s\n",
            "655:\tlearn: 0.6100332\ttotal: 19.1s\tremaining: 10s\n",
            "656:\tlearn: 0.6096260\ttotal: 19.2s\tremaining: 10s\n",
            "657:\tlearn: 0.6091626\ttotal: 19.2s\tremaining: 9.97s\n",
            "658:\tlearn: 0.6085811\ttotal: 19.2s\tremaining: 9.94s\n",
            "659:\tlearn: 0.6083799\ttotal: 19.2s\tremaining: 9.91s\n",
            "660:\tlearn: 0.6080018\ttotal: 19.3s\tremaining: 9.88s\n",
            "661:\tlearn: 0.6075399\ttotal: 19.3s\tremaining: 9.85s\n",
            "662:\tlearn: 0.6070930\ttotal: 19.3s\tremaining: 9.82s\n",
            "663:\tlearn: 0.6066084\ttotal: 19.4s\tremaining: 9.79s\n",
            "664:\tlearn: 0.6059873\ttotal: 19.4s\tremaining: 9.76s\n",
            "665:\tlearn: 0.6057204\ttotal: 19.4s\tremaining: 9.73s\n",
            "666:\tlearn: 0.6054226\ttotal: 19.4s\tremaining: 9.7s\n",
            "667:\tlearn: 0.6050081\ttotal: 19.5s\tremaining: 9.68s\n",
            "668:\tlearn: 0.6046407\ttotal: 19.5s\tremaining: 9.65s\n",
            "669:\tlearn: 0.6039879\ttotal: 19.5s\tremaining: 9.62s\n",
            "670:\tlearn: 0.6034843\ttotal: 19.6s\tremaining: 9.59s\n",
            "671:\tlearn: 0.6031863\ttotal: 19.6s\tremaining: 9.56s\n",
            "672:\tlearn: 0.6026760\ttotal: 19.6s\tremaining: 9.53s\n",
            "673:\tlearn: 0.6021911\ttotal: 19.6s\tremaining: 9.5s\n",
            "674:\tlearn: 0.6017466\ttotal: 19.7s\tremaining: 9.47s\n",
            "675:\tlearn: 0.6013150\ttotal: 19.7s\tremaining: 9.44s\n",
            "676:\tlearn: 0.6009611\ttotal: 19.7s\tremaining: 9.41s\n",
            "677:\tlearn: 0.6005577\ttotal: 19.7s\tremaining: 9.38s\n",
            "678:\tlearn: 0.6001811\ttotal: 19.8s\tremaining: 9.35s\n",
            "679:\tlearn: 0.5997955\ttotal: 19.8s\tremaining: 9.32s\n",
            "680:\tlearn: 0.5993119\ttotal: 19.8s\tremaining: 9.29s\n",
            "681:\tlearn: 0.5989175\ttotal: 19.9s\tremaining: 9.26s\n",
            "682:\tlearn: 0.5984316\ttotal: 19.9s\tremaining: 9.23s\n",
            "683:\tlearn: 0.5980165\ttotal: 19.9s\tremaining: 9.2s\n",
            "684:\tlearn: 0.5975927\ttotal: 19.9s\tremaining: 9.17s\n",
            "685:\tlearn: 0.5970186\ttotal: 20s\tremaining: 9.14s\n",
            "686:\tlearn: 0.5966022\ttotal: 20s\tremaining: 9.11s\n",
            "687:\tlearn: 0.5963285\ttotal: 20s\tremaining: 9.08s\n",
            "688:\tlearn: 0.5959213\ttotal: 20.1s\tremaining: 9.05s\n",
            "689:\tlearn: 0.5954939\ttotal: 20.1s\tremaining: 9.02s\n",
            "690:\tlearn: 0.5949900\ttotal: 20.1s\tremaining: 8.99s\n",
            "691:\tlearn: 0.5945117\ttotal: 20.1s\tremaining: 8.96s\n",
            "692:\tlearn: 0.5941099\ttotal: 20.2s\tremaining: 8.93s\n",
            "693:\tlearn: 0.5936428\ttotal: 20.2s\tremaining: 8.9s\n",
            "694:\tlearn: 0.5931046\ttotal: 20.2s\tremaining: 8.87s\n",
            "695:\tlearn: 0.5927489\ttotal: 20.2s\tremaining: 8.84s\n",
            "696:\tlearn: 0.5925669\ttotal: 20.3s\tremaining: 8.82s\n",
            "697:\tlearn: 0.5924176\ttotal: 20.3s\tremaining: 8.79s\n",
            "698:\tlearn: 0.5920714\ttotal: 20.3s\tremaining: 8.76s\n",
            "699:\tlearn: 0.5917840\ttotal: 20.4s\tremaining: 8.73s\n",
            "700:\tlearn: 0.5913875\ttotal: 20.4s\tremaining: 8.7s\n",
            "701:\tlearn: 0.5911507\ttotal: 20.4s\tremaining: 8.67s\n",
            "702:\tlearn: 0.5909628\ttotal: 20.4s\tremaining: 8.64s\n",
            "703:\tlearn: 0.5907002\ttotal: 20.5s\tremaining: 8.61s\n",
            "704:\tlearn: 0.5904267\ttotal: 20.5s\tremaining: 8.58s\n",
            "705:\tlearn: 0.5901753\ttotal: 20.5s\tremaining: 8.55s\n",
            "706:\tlearn: 0.5898526\ttotal: 20.6s\tremaining: 8.52s\n",
            "707:\tlearn: 0.5896010\ttotal: 20.6s\tremaining: 8.49s\n",
            "708:\tlearn: 0.5893825\ttotal: 20.6s\tremaining: 8.46s\n",
            "709:\tlearn: 0.5889218\ttotal: 20.6s\tremaining: 8.43s\n",
            "710:\tlearn: 0.5884014\ttotal: 20.7s\tremaining: 8.4s\n",
            "711:\tlearn: 0.5879941\ttotal: 20.7s\tremaining: 8.37s\n",
            "712:\tlearn: 0.5875927\ttotal: 20.7s\tremaining: 8.34s\n",
            "713:\tlearn: 0.5870373\ttotal: 20.8s\tremaining: 8.31s\n",
            "714:\tlearn: 0.5867029\ttotal: 20.8s\tremaining: 8.28s\n",
            "715:\tlearn: 0.5864933\ttotal: 20.8s\tremaining: 8.25s\n",
            "716:\tlearn: 0.5860692\ttotal: 20.8s\tremaining: 8.22s\n",
            "717:\tlearn: 0.5857449\ttotal: 20.9s\tremaining: 8.19s\n",
            "718:\tlearn: 0.5853480\ttotal: 20.9s\tremaining: 8.16s\n",
            "719:\tlearn: 0.5851468\ttotal: 20.9s\tremaining: 8.13s\n",
            "720:\tlearn: 0.5846340\ttotal: 20.9s\tremaining: 8.1s\n",
            "721:\tlearn: 0.5840747\ttotal: 21s\tremaining: 8.08s\n",
            "722:\tlearn: 0.5837838\ttotal: 21s\tremaining: 8.05s\n",
            "723:\tlearn: 0.5834202\ttotal: 21s\tremaining: 8.02s\n",
            "724:\tlearn: 0.5830979\ttotal: 21.1s\tremaining: 7.99s\n",
            "725:\tlearn: 0.5828740\ttotal: 21.1s\tremaining: 7.96s\n",
            "726:\tlearn: 0.5825960\ttotal: 21.1s\tremaining: 7.92s\n",
            "727:\tlearn: 0.5822149\ttotal: 21.1s\tremaining: 7.89s\n",
            "728:\tlearn: 0.5817384\ttotal: 21.2s\tremaining: 7.87s\n",
            "729:\tlearn: 0.5813626\ttotal: 21.2s\tremaining: 7.84s\n",
            "730:\tlearn: 0.5809769\ttotal: 21.2s\tremaining: 7.81s\n",
            "731:\tlearn: 0.5806957\ttotal: 21.3s\tremaining: 7.78s\n",
            "732:\tlearn: 0.5800883\ttotal: 21.3s\tremaining: 7.75s\n",
            "733:\tlearn: 0.5794741\ttotal: 21.3s\tremaining: 7.72s\n",
            "734:\tlearn: 0.5790326\ttotal: 21.3s\tremaining: 7.69s\n",
            "735:\tlearn: 0.5788876\ttotal: 21.4s\tremaining: 7.66s\n",
            "736:\tlearn: 0.5785454\ttotal: 21.4s\tremaining: 7.63s\n",
            "737:\tlearn: 0.5781299\ttotal: 21.4s\tremaining: 7.6s\n",
            "738:\tlearn: 0.5776670\ttotal: 21.4s\tremaining: 7.57s\n",
            "739:\tlearn: 0.5770737\ttotal: 21.5s\tremaining: 7.54s\n",
            "740:\tlearn: 0.5766057\ttotal: 21.5s\tremaining: 7.51s\n",
            "741:\tlearn: 0.5761255\ttotal: 21.5s\tremaining: 7.48s\n",
            "742:\tlearn: 0.5759973\ttotal: 21.5s\tremaining: 7.45s\n",
            "743:\tlearn: 0.5757991\ttotal: 21.6s\tremaining: 7.42s\n",
            "744:\tlearn: 0.5755034\ttotal: 21.6s\tremaining: 7.39s\n",
            "745:\tlearn: 0.5751187\ttotal: 21.6s\tremaining: 7.36s\n",
            "746:\tlearn: 0.5747283\ttotal: 21.6s\tremaining: 7.33s\n",
            "747:\tlearn: 0.5743220\ttotal: 21.7s\tremaining: 7.3s\n",
            "748:\tlearn: 0.5740841\ttotal: 21.7s\tremaining: 7.27s\n",
            "749:\tlearn: 0.5737915\ttotal: 21.7s\tremaining: 7.24s\n",
            "750:\tlearn: 0.5734166\ttotal: 21.8s\tremaining: 7.21s\n",
            "751:\tlearn: 0.5730454\ttotal: 21.8s\tremaining: 7.18s\n",
            "752:\tlearn: 0.5728054\ttotal: 21.8s\tremaining: 7.16s\n",
            "753:\tlearn: 0.5725413\ttotal: 21.8s\tremaining: 7.13s\n",
            "754:\tlearn: 0.5721108\ttotal: 21.9s\tremaining: 7.09s\n",
            "755:\tlearn: 0.5717121\ttotal: 21.9s\tremaining: 7.07s\n",
            "756:\tlearn: 0.5712823\ttotal: 21.9s\tremaining: 7.03s\n",
            "757:\tlearn: 0.5709745\ttotal: 21.9s\tremaining: 7s\n",
            "758:\tlearn: 0.5706541\ttotal: 22s\tremaining: 6.97s\n",
            "759:\tlearn: 0.5705709\ttotal: 22s\tremaining: 6.95s\n",
            "760:\tlearn: 0.5700940\ttotal: 22s\tremaining: 6.92s\n",
            "761:\tlearn: 0.5695372\ttotal: 22s\tremaining: 6.88s\n",
            "762:\tlearn: 0.5689918\ttotal: 22.1s\tremaining: 6.86s\n",
            "763:\tlearn: 0.5686692\ttotal: 22.1s\tremaining: 6.83s\n",
            "764:\tlearn: 0.5683366\ttotal: 22.1s\tremaining: 6.79s\n",
            "765:\tlearn: 0.5678869\ttotal: 22.1s\tremaining: 6.76s\n",
            "766:\tlearn: 0.5672449\ttotal: 22.2s\tremaining: 6.74s\n",
            "767:\tlearn: 0.5668749\ttotal: 22.2s\tremaining: 6.71s\n",
            "768:\tlearn: 0.5667053\ttotal: 22.2s\tremaining: 6.68s\n",
            "769:\tlearn: 0.5660667\ttotal: 22.3s\tremaining: 6.65s\n",
            "770:\tlearn: 0.5655975\ttotal: 22.3s\tremaining: 6.62s\n",
            "771:\tlearn: 0.5652960\ttotal: 22.3s\tremaining: 6.59s\n",
            "772:\tlearn: 0.5648624\ttotal: 22.3s\tremaining: 6.56s\n",
            "773:\tlearn: 0.5645970\ttotal: 22.4s\tremaining: 6.53s\n",
            "774:\tlearn: 0.5643629\ttotal: 22.4s\tremaining: 6.5s\n",
            "775:\tlearn: 0.5639904\ttotal: 22.4s\tremaining: 6.47s\n",
            "776:\tlearn: 0.5637772\ttotal: 22.4s\tremaining: 6.44s\n",
            "777:\tlearn: 0.5632620\ttotal: 22.5s\tremaining: 6.41s\n",
            "778:\tlearn: 0.5629614\ttotal: 22.5s\tremaining: 6.38s\n",
            "779:\tlearn: 0.5627451\ttotal: 22.5s\tremaining: 6.35s\n",
            "780:\tlearn: 0.5623968\ttotal: 22.5s\tremaining: 6.32s\n",
            "781:\tlearn: 0.5618193\ttotal: 22.6s\tremaining: 6.29s\n",
            "782:\tlearn: 0.5615485\ttotal: 22.6s\tremaining: 6.26s\n",
            "783:\tlearn: 0.5613738\ttotal: 22.6s\tremaining: 6.23s\n",
            "784:\tlearn: 0.5610422\ttotal: 22.7s\tremaining: 6.2s\n",
            "785:\tlearn: 0.5607535\ttotal: 22.7s\tremaining: 6.17s\n",
            "786:\tlearn: 0.5604560\ttotal: 22.7s\tremaining: 6.14s\n",
            "787:\tlearn: 0.5601181\ttotal: 22.7s\tremaining: 6.12s\n",
            "788:\tlearn: 0.5598981\ttotal: 22.8s\tremaining: 6.09s\n",
            "789:\tlearn: 0.5595621\ttotal: 22.8s\tremaining: 6.06s\n",
            "790:\tlearn: 0.5590951\ttotal: 22.8s\tremaining: 6.03s\n",
            "791:\tlearn: 0.5587646\ttotal: 22.8s\tremaining: 6s\n",
            "792:\tlearn: 0.5583528\ttotal: 22.9s\tremaining: 5.97s\n",
            "793:\tlearn: 0.5579912\ttotal: 22.9s\tremaining: 5.94s\n",
            "794:\tlearn: 0.5578122\ttotal: 22.9s\tremaining: 5.91s\n",
            "795:\tlearn: 0.5575574\ttotal: 22.9s\tremaining: 5.88s\n",
            "796:\tlearn: 0.5570725\ttotal: 23s\tremaining: 5.85s\n",
            "797:\tlearn: 0.5568203\ttotal: 23s\tremaining: 5.82s\n",
            "798:\tlearn: 0.5563254\ttotal: 23s\tremaining: 5.79s\n",
            "799:\tlearn: 0.5559075\ttotal: 23s\tremaining: 5.76s\n",
            "800:\tlearn: 0.5554114\ttotal: 23.1s\tremaining: 5.73s\n",
            "801:\tlearn: 0.5551302\ttotal: 23.1s\tremaining: 5.7s\n",
            "802:\tlearn: 0.5546353\ttotal: 23.1s\tremaining: 5.67s\n",
            "803:\tlearn: 0.5544199\ttotal: 23.2s\tremaining: 5.64s\n",
            "804:\tlearn: 0.5542066\ttotal: 23.2s\tremaining: 5.62s\n",
            "805:\tlearn: 0.5539601\ttotal: 23.2s\tremaining: 5.59s\n",
            "806:\tlearn: 0.5534590\ttotal: 23.3s\tremaining: 5.57s\n",
            "807:\tlearn: 0.5531119\ttotal: 23.3s\tremaining: 5.54s\n",
            "808:\tlearn: 0.5526993\ttotal: 23.4s\tremaining: 5.51s\n",
            "809:\tlearn: 0.5523433\ttotal: 23.4s\tremaining: 5.49s\n",
            "810:\tlearn: 0.5518891\ttotal: 23.4s\tremaining: 5.46s\n",
            "811:\tlearn: 0.5516129\ttotal: 23.5s\tremaining: 5.44s\n",
            "812:\tlearn: 0.5512110\ttotal: 23.6s\tremaining: 5.42s\n",
            "813:\tlearn: 0.5507670\ttotal: 23.6s\tremaining: 5.4s\n",
            "814:\tlearn: 0.5503321\ttotal: 23.7s\tremaining: 5.37s\n",
            "815:\tlearn: 0.5501156\ttotal: 23.7s\tremaining: 5.35s\n",
            "816:\tlearn: 0.5497844\ttotal: 23.8s\tremaining: 5.33s\n",
            "817:\tlearn: 0.5494138\ttotal: 23.8s\tremaining: 5.3s\n",
            "818:\tlearn: 0.5490413\ttotal: 23.9s\tremaining: 5.28s\n",
            "819:\tlearn: 0.5487048\ttotal: 23.9s\tremaining: 5.25s\n",
            "820:\tlearn: 0.5483733\ttotal: 24s\tremaining: 5.23s\n",
            "821:\tlearn: 0.5480185\ttotal: 24s\tremaining: 5.21s\n",
            "822:\tlearn: 0.5477381\ttotal: 24.1s\tremaining: 5.18s\n",
            "823:\tlearn: 0.5474483\ttotal: 24.2s\tremaining: 5.16s\n",
            "824:\tlearn: 0.5467163\ttotal: 24.2s\tremaining: 5.13s\n",
            "825:\tlearn: 0.5464639\ttotal: 24.3s\tremaining: 5.11s\n",
            "826:\tlearn: 0.5462099\ttotal: 24.3s\tremaining: 5.09s\n",
            "827:\tlearn: 0.5459884\ttotal: 24.4s\tremaining: 5.06s\n",
            "828:\tlearn: 0.5456884\ttotal: 24.4s\tremaining: 5.04s\n",
            "829:\tlearn: 0.5454745\ttotal: 24.5s\tremaining: 5.01s\n",
            "830:\tlearn: 0.5450107\ttotal: 24.5s\tremaining: 4.98s\n",
            "831:\tlearn: 0.5446956\ttotal: 24.6s\tremaining: 4.96s\n",
            "832:\tlearn: 0.5442777\ttotal: 24.6s\tremaining: 4.93s\n",
            "833:\tlearn: 0.5438804\ttotal: 24.7s\tremaining: 4.91s\n",
            "834:\tlearn: 0.5435127\ttotal: 24.7s\tremaining: 4.89s\n",
            "835:\tlearn: 0.5431735\ttotal: 24.8s\tremaining: 4.86s\n",
            "836:\tlearn: 0.5428895\ttotal: 24.9s\tremaining: 4.84s\n",
            "837:\tlearn: 0.5423618\ttotal: 24.9s\tremaining: 4.82s\n",
            "838:\tlearn: 0.5421699\ttotal: 25s\tremaining: 4.79s\n",
            "839:\tlearn: 0.5417366\ttotal: 25s\tremaining: 4.76s\n",
            "840:\tlearn: 0.5413826\ttotal: 25.1s\tremaining: 4.74s\n",
            "841:\tlearn: 0.5410791\ttotal: 25.1s\tremaining: 4.71s\n",
            "842:\tlearn: 0.5407500\ttotal: 25.2s\tremaining: 4.69s\n",
            "843:\tlearn: 0.5403368\ttotal: 25.2s\tremaining: 4.66s\n",
            "844:\tlearn: 0.5400855\ttotal: 25.3s\tremaining: 4.63s\n",
            "845:\tlearn: 0.5398385\ttotal: 25.3s\tremaining: 4.61s\n",
            "846:\tlearn: 0.5395378\ttotal: 25.4s\tremaining: 4.58s\n",
            "847:\tlearn: 0.5392622\ttotal: 25.4s\tremaining: 4.56s\n",
            "848:\tlearn: 0.5389679\ttotal: 25.5s\tremaining: 4.53s\n",
            "849:\tlearn: 0.5384339\ttotal: 25.5s\tremaining: 4.51s\n",
            "850:\tlearn: 0.5380342\ttotal: 25.6s\tremaining: 4.48s\n",
            "851:\tlearn: 0.5377624\ttotal: 25.7s\tremaining: 4.46s\n",
            "852:\tlearn: 0.5375289\ttotal: 25.7s\tremaining: 4.43s\n",
            "853:\tlearn: 0.5373090\ttotal: 25.8s\tremaining: 4.4s\n",
            "854:\tlearn: 0.5370269\ttotal: 25.8s\tremaining: 4.38s\n",
            "855:\tlearn: 0.5363888\ttotal: 25.9s\tremaining: 4.35s\n",
            "856:\tlearn: 0.5360878\ttotal: 25.9s\tremaining: 4.33s\n",
            "857:\tlearn: 0.5356989\ttotal: 26s\tremaining: 4.3s\n",
            "858:\tlearn: 0.5354792\ttotal: 26s\tremaining: 4.27s\n",
            "859:\tlearn: 0.5352420\ttotal: 26s\tremaining: 4.24s\n",
            "860:\tlearn: 0.5347797\ttotal: 26.1s\tremaining: 4.21s\n",
            "861:\tlearn: 0.5343255\ttotal: 26.2s\tremaining: 4.19s\n",
            "862:\tlearn: 0.5339591\ttotal: 26.2s\tremaining: 4.16s\n",
            "863:\tlearn: 0.5335479\ttotal: 26.3s\tremaining: 4.14s\n",
            "864:\tlearn: 0.5331339\ttotal: 26.3s\tremaining: 4.11s\n",
            "865:\tlearn: 0.5327251\ttotal: 26.4s\tremaining: 4.08s\n",
            "866:\tlearn: 0.5323120\ttotal: 26.4s\tremaining: 4.05s\n",
            "867:\tlearn: 0.5321181\ttotal: 26.4s\tremaining: 4.02s\n",
            "868:\tlearn: 0.5317679\ttotal: 26.5s\tremaining: 3.99s\n",
            "869:\tlearn: 0.5314881\ttotal: 26.5s\tremaining: 3.96s\n",
            "870:\tlearn: 0.5311382\ttotal: 26.5s\tremaining: 3.93s\n",
            "871:\tlearn: 0.5310029\ttotal: 26.5s\tremaining: 3.9s\n",
            "872:\tlearn: 0.5303562\ttotal: 26.6s\tremaining: 3.87s\n",
            "873:\tlearn: 0.5300109\ttotal: 26.6s\tremaining: 3.83s\n",
            "874:\tlearn: 0.5298270\ttotal: 26.6s\tremaining: 3.8s\n",
            "875:\tlearn: 0.5294731\ttotal: 26.7s\tremaining: 3.77s\n",
            "876:\tlearn: 0.5292702\ttotal: 26.7s\tremaining: 3.74s\n",
            "877:\tlearn: 0.5286219\ttotal: 26.7s\tremaining: 3.71s\n",
            "878:\tlearn: 0.5283011\ttotal: 26.7s\tremaining: 3.68s\n",
            "879:\tlearn: 0.5279862\ttotal: 26.8s\tremaining: 3.65s\n",
            "880:\tlearn: 0.5275476\ttotal: 26.8s\tremaining: 3.62s\n",
            "881:\tlearn: 0.5271361\ttotal: 26.8s\tremaining: 3.59s\n",
            "882:\tlearn: 0.5270475\ttotal: 26.8s\tremaining: 3.56s\n",
            "883:\tlearn: 0.5269042\ttotal: 26.9s\tremaining: 3.52s\n",
            "884:\tlearn: 0.5266997\ttotal: 26.9s\tremaining: 3.49s\n",
            "885:\tlearn: 0.5263872\ttotal: 26.9s\tremaining: 3.46s\n",
            "886:\tlearn: 0.5260687\ttotal: 26.9s\tremaining: 3.43s\n",
            "887:\tlearn: 0.5256431\ttotal: 27s\tremaining: 3.4s\n",
            "888:\tlearn: 0.5253157\ttotal: 27s\tremaining: 3.37s\n",
            "889:\tlearn: 0.5250073\ttotal: 27s\tremaining: 3.34s\n",
            "890:\tlearn: 0.5245255\ttotal: 27.1s\tremaining: 3.31s\n",
            "891:\tlearn: 0.5242036\ttotal: 27.1s\tremaining: 3.28s\n",
            "892:\tlearn: 0.5237655\ttotal: 27.1s\tremaining: 3.25s\n",
            "893:\tlearn: 0.5235441\ttotal: 27.1s\tremaining: 3.22s\n",
            "894:\tlearn: 0.5232539\ttotal: 27.2s\tremaining: 3.19s\n",
            "895:\tlearn: 0.5229737\ttotal: 27.2s\tremaining: 3.15s\n",
            "896:\tlearn: 0.5226816\ttotal: 27.2s\tremaining: 3.12s\n",
            "897:\tlearn: 0.5225082\ttotal: 27.2s\tremaining: 3.09s\n",
            "898:\tlearn: 0.5223078\ttotal: 27.3s\tremaining: 3.06s\n",
            "899:\tlearn: 0.5218191\ttotal: 27.3s\tremaining: 3.03s\n",
            "900:\tlearn: 0.5215579\ttotal: 27.3s\tremaining: 3s\n",
            "901:\tlearn: 0.5212515\ttotal: 27.4s\tremaining: 2.97s\n",
            "902:\tlearn: 0.5208931\ttotal: 27.4s\tremaining: 2.94s\n",
            "903:\tlearn: 0.5203355\ttotal: 27.4s\tremaining: 2.91s\n",
            "904:\tlearn: 0.5198318\ttotal: 27.4s\tremaining: 2.88s\n",
            "905:\tlearn: 0.5195651\ttotal: 27.5s\tremaining: 2.85s\n",
            "906:\tlearn: 0.5191960\ttotal: 27.5s\tremaining: 2.82s\n",
            "907:\tlearn: 0.5188360\ttotal: 27.5s\tremaining: 2.79s\n",
            "908:\tlearn: 0.5183410\ttotal: 27.5s\tremaining: 2.76s\n",
            "909:\tlearn: 0.5180499\ttotal: 27.6s\tremaining: 2.73s\n",
            "910:\tlearn: 0.5175091\ttotal: 27.6s\tremaining: 2.69s\n",
            "911:\tlearn: 0.5172958\ttotal: 27.6s\tremaining: 2.67s\n",
            "912:\tlearn: 0.5169692\ttotal: 27.6s\tremaining: 2.63s\n",
            "913:\tlearn: 0.5165180\ttotal: 27.7s\tremaining: 2.6s\n",
            "914:\tlearn: 0.5160415\ttotal: 27.7s\tremaining: 2.57s\n",
            "915:\tlearn: 0.5156717\ttotal: 27.7s\tremaining: 2.54s\n",
            "916:\tlearn: 0.5152925\ttotal: 27.8s\tremaining: 2.51s\n",
            "917:\tlearn: 0.5149555\ttotal: 27.8s\tremaining: 2.48s\n",
            "918:\tlearn: 0.5144826\ttotal: 27.8s\tremaining: 2.45s\n",
            "919:\tlearn: 0.5141637\ttotal: 27.8s\tremaining: 2.42s\n",
            "920:\tlearn: 0.5137613\ttotal: 27.9s\tremaining: 2.39s\n",
            "921:\tlearn: 0.5132978\ttotal: 27.9s\tremaining: 2.36s\n",
            "922:\tlearn: 0.5129508\ttotal: 27.9s\tremaining: 2.33s\n",
            "923:\tlearn: 0.5126438\ttotal: 27.9s\tremaining: 2.3s\n",
            "924:\tlearn: 0.5124272\ttotal: 28s\tremaining: 2.27s\n",
            "925:\tlearn: 0.5121753\ttotal: 28s\tremaining: 2.24s\n",
            "926:\tlearn: 0.5118143\ttotal: 28s\tremaining: 2.21s\n",
            "927:\tlearn: 0.5113440\ttotal: 28.1s\tremaining: 2.18s\n",
            "928:\tlearn: 0.5109530\ttotal: 28.1s\tremaining: 2.15s\n",
            "929:\tlearn: 0.5104821\ttotal: 28.1s\tremaining: 2.12s\n",
            "930:\tlearn: 0.5099688\ttotal: 28.1s\tremaining: 2.08s\n",
            "931:\tlearn: 0.5097923\ttotal: 28.2s\tremaining: 2.06s\n",
            "932:\tlearn: 0.5094500\ttotal: 28.2s\tremaining: 2.02s\n",
            "933:\tlearn: 0.5092196\ttotal: 28.2s\tremaining: 1.99s\n",
            "934:\tlearn: 0.5088144\ttotal: 28.2s\tremaining: 1.96s\n",
            "935:\tlearn: 0.5084712\ttotal: 28.3s\tremaining: 1.93s\n",
            "936:\tlearn: 0.5080904\ttotal: 28.3s\tremaining: 1.9s\n",
            "937:\tlearn: 0.5078578\ttotal: 28.3s\tremaining: 1.87s\n",
            "938:\tlearn: 0.5075624\ttotal: 28.4s\tremaining: 1.84s\n",
            "939:\tlearn: 0.5073942\ttotal: 28.4s\tremaining: 1.81s\n",
            "940:\tlearn: 0.5070298\ttotal: 28.4s\tremaining: 1.78s\n",
            "941:\tlearn: 0.5069211\ttotal: 28.4s\tremaining: 1.75s\n",
            "942:\tlearn: 0.5067096\ttotal: 28.5s\tremaining: 1.72s\n",
            "943:\tlearn: 0.5063708\ttotal: 28.5s\tremaining: 1.69s\n",
            "944:\tlearn: 0.5060252\ttotal: 28.5s\tremaining: 1.66s\n",
            "945:\tlearn: 0.5058657\ttotal: 28.5s\tremaining: 1.63s\n",
            "946:\tlearn: 0.5054803\ttotal: 28.6s\tremaining: 1.6s\n",
            "947:\tlearn: 0.5051805\ttotal: 28.6s\tremaining: 1.57s\n",
            "948:\tlearn: 0.5050014\ttotal: 28.6s\tremaining: 1.54s\n",
            "949:\tlearn: 0.5045893\ttotal: 28.6s\tremaining: 1.51s\n",
            "950:\tlearn: 0.5044091\ttotal: 28.7s\tremaining: 1.48s\n",
            "951:\tlearn: 0.5040491\ttotal: 28.7s\tremaining: 1.45s\n",
            "952:\tlearn: 0.5037699\ttotal: 28.7s\tremaining: 1.42s\n",
            "953:\tlearn: 0.5034591\ttotal: 28.7s\tremaining: 1.39s\n",
            "954:\tlearn: 0.5031552\ttotal: 28.8s\tremaining: 1.35s\n",
            "955:\tlearn: 0.5027847\ttotal: 28.8s\tremaining: 1.32s\n",
            "956:\tlearn: 0.5025043\ttotal: 28.8s\tremaining: 1.29s\n",
            "957:\tlearn: 0.5023016\ttotal: 28.9s\tremaining: 1.26s\n",
            "958:\tlearn: 0.5019120\ttotal: 28.9s\tremaining: 1.24s\n",
            "959:\tlearn: 0.5015748\ttotal: 28.9s\tremaining: 1.2s\n",
            "960:\tlearn: 0.5010390\ttotal: 28.9s\tremaining: 1.17s\n",
            "961:\tlearn: 0.5008571\ttotal: 29s\tremaining: 1.14s\n",
            "962:\tlearn: 0.5006270\ttotal: 29s\tremaining: 1.11s\n",
            "963:\tlearn: 0.5003476\ttotal: 29s\tremaining: 1.08s\n",
            "964:\tlearn: 0.5000869\ttotal: 29s\tremaining: 1.05s\n",
            "965:\tlearn: 0.4997269\ttotal: 29.1s\tremaining: 1.02s\n",
            "966:\tlearn: 0.4994535\ttotal: 29.1s\tremaining: 993ms\n",
            "967:\tlearn: 0.4992090\ttotal: 29.1s\tremaining: 963ms\n",
            "968:\tlearn: 0.4987548\ttotal: 29.2s\tremaining: 933ms\n",
            "969:\tlearn: 0.4984796\ttotal: 29.2s\tremaining: 903ms\n",
            "970:\tlearn: 0.4979905\ttotal: 29.2s\tremaining: 872ms\n",
            "971:\tlearn: 0.4976596\ttotal: 29.2s\tremaining: 842ms\n",
            "972:\tlearn: 0.4973215\ttotal: 29.3s\tremaining: 812ms\n",
            "973:\tlearn: 0.4969827\ttotal: 29.3s\tremaining: 782ms\n",
            "974:\tlearn: 0.4965965\ttotal: 29.3s\tremaining: 752ms\n",
            "975:\tlearn: 0.4962840\ttotal: 29.3s\tremaining: 721ms\n",
            "976:\tlearn: 0.4958762\ttotal: 29.4s\tremaining: 691ms\n",
            "977:\tlearn: 0.4955390\ttotal: 29.4s\tremaining: 661ms\n",
            "978:\tlearn: 0.4953871\ttotal: 29.4s\tremaining: 631ms\n",
            "979:\tlearn: 0.4950572\ttotal: 29.4s\tremaining: 601ms\n",
            "980:\tlearn: 0.4946477\ttotal: 29.5s\tremaining: 571ms\n",
            "981:\tlearn: 0.4943545\ttotal: 29.5s\tremaining: 541ms\n",
            "982:\tlearn: 0.4940709\ttotal: 29.5s\tremaining: 510ms\n",
            "983:\tlearn: 0.4937510\ttotal: 29.6s\tremaining: 481ms\n",
            "984:\tlearn: 0.4934273\ttotal: 29.6s\tremaining: 450ms\n",
            "985:\tlearn: 0.4930997\ttotal: 29.6s\tremaining: 420ms\n",
            "986:\tlearn: 0.4926845\ttotal: 29.6s\tremaining: 390ms\n",
            "987:\tlearn: 0.4923883\ttotal: 29.7s\tremaining: 360ms\n",
            "988:\tlearn: 0.4919060\ttotal: 29.7s\tremaining: 330ms\n",
            "989:\tlearn: 0.4916547\ttotal: 29.7s\tremaining: 300ms\n",
            "990:\tlearn: 0.4913628\ttotal: 29.7s\tremaining: 270ms\n",
            "991:\tlearn: 0.4910385\ttotal: 29.8s\tremaining: 240ms\n",
            "992:\tlearn: 0.4908817\ttotal: 29.8s\tremaining: 210ms\n",
            "993:\tlearn: 0.4904369\ttotal: 29.8s\tremaining: 180ms\n",
            "994:\tlearn: 0.4902208\ttotal: 29.8s\tremaining: 150ms\n",
            "995:\tlearn: 0.4898748\ttotal: 29.9s\tremaining: 120ms\n",
            "996:\tlearn: 0.4894498\ttotal: 29.9s\tremaining: 90ms\n",
            "997:\tlearn: 0.4892552\ttotal: 29.9s\tremaining: 60ms\n",
            "998:\tlearn: 0.4889298\ttotal: 30s\tremaining: 30ms\n",
            "999:\tlearn: 0.4888503\ttotal: 30s\tremaining: 0us\n",
            "Best: -0.9843749425002718 using {'l2_leaf_reg': 3}\n",
            "-0.9922702868554512 (0.03957743983011259) with: {'l2_leaf_reg': 1}\n",
            "-0.9843749425002718 (0.03311253479341237) with: {'l2_leaf_reg': 3}\n",
            "-0.9845015268683011 (0.03485797121960998) with: {'l2_leaf_reg': 5}\n"
          ]
        }
      ],
      "source": [
        "params = {\n",
        "    'l2_leaf_reg': [1, 3, 5], \n",
        "}\n",
        "\n",
        "cb_model = cb.CatBoostClassifier(loss_function='MultiClass', random_state=rand_state)\n",
        "\n",
        "lr_best_params = get_best_params(model=cb_model,\n",
        "                                 grid=params,\n",
        "                                 X=X_train,\n",
        "                                 y=y_train,\n",
        "                                 is_iterate_all=True)"
      ]
    },
    {
      "cell_type": "markdown",
      "metadata": {
        "id": "le3VclhsEoL-"
      },
      "source": [
        "## 1.2 LightGBM"
      ]
    },
    {
      "cell_type": "code",
      "execution_count": null,
      "metadata": {
        "colab": {
          "base_uri": "https://localhost:8080/",
          "height": 755
        },
        "id": "E6AAlFs883Bj",
        "outputId": "58d79ef3-e867-406b-ea69-ffb1a99161e3"
      },
      "outputs": [
        {
          "name": "stdout",
          "output_type": "stream",
          "text": [
            "Cross Validation Accuracy Score: 0.467 (0.030)\n"
          ]
        },
        {
          "name": "stderr",
          "output_type": "stream",
          "text": [
            "/usr/local/lib/python3.9/dist-packages/sklearn/preprocessing/_label.py:99: DataConversionWarning: A column-vector y was passed when a 1d array was expected. Please change the shape of y to (n_samples, ), for example using ravel().\n",
            "  y = column_or_1d(y, warn=True)\n",
            "/usr/local/lib/python3.9/dist-packages/sklearn/preprocessing/_label.py:134: DataConversionWarning: A column-vector y was passed when a 1d array was expected. Please change the shape of y to (n_samples, ), for example using ravel().\n",
            "  y = column_or_1d(y, dtype=self.classes_.dtype, warn=True)\n"
          ]
        },
        {
          "name": "stdout",
          "output_type": "stream",
          "text": [
            "                precision    recall  f1-score   support\n",
            "\n",
            "   High Shares       0.37      0.31      0.34       283\n",
            "Average Shares       0.47      0.56      0.51       245\n",
            "    Low Shares       0.51      0.51      0.51       271\n",
            "\n",
            "      accuracy                           0.45       799\n",
            "     macro avg       0.45      0.46      0.45       799\n",
            "  weighted avg       0.45      0.45      0.45       799\n",
            "\n",
            "Accuracy: 0.454\n"
          ]
        },
        {
          "data": {
            "image/png": "[encoded data removed]",
            "text/plain": [
              "<Figure size 640x480 with 2 Axes>"
            ]
          },
          "metadata": {},
          "output_type": "display_data"
        }
      ],
      "source": [
        "lgb_base_model = lgb.LGBMClassifier(\n",
        "    n_estimators=100, \n",
        "    learning_rate=0.1, \n",
        "    objective='multiclass', \n",
        "    metric='multi_logloss', \n",
        "    random_state=rand_state\n",
        ")\n",
        "\n",
        "get_mean_cvs(lgb_base_model, X_train, y_train)\n",
        "\n",
        "lgb_base_model.fit(X_train, y_train)\n",
        "y_pred_lgb_base = lgb_base_model.predict(X_test)\n",
        "evaluate_model(y_test, y_pred_lgb_base)"
      ]
    },
    {
      "cell_type": "markdown",
      "metadata": {
        "id": "ReWVN35CEWDT"
      },
      "source": [
        "## 1.3 Adaboost"
      ]
    },
    {
      "cell_type": "code",
      "execution_count": null,
      "metadata": {
        "id": "USZu8_G8CZG0"
      },
      "outputs": [],
      "source": [
        "def evaluate_model(y_true, y_pred):\n",
        "    \"\"\"Prints a classification report and plots a confusion matrix.\"\"\"\n",
        "    labels = ['High Shares', 'Average Shares', 'Low Shares']\n",
        "\n",
        "    print(classification_report(y_true=y_true,\n",
        "                                y_pred=y_pred,\n",
        "                                target_names=labels))\n",
        "\n",
        "    cm = confusion_matrix(y_true=y_true,\n",
        "                          y_pred=y_pred,\n",
        "                          labels=labels)\n",
        "\n",
        "    plt.imshow(cm, cmap=plt.cm.Blues)\n",
        "    threshold = cm.min() + ((cm.max() - cm.min()) / 2)\n",
        "\n",
        "    for i in range(cm.shape[0]):\n",
        "        for j in range(cm.shape[1]): \n",
        "            plt.text(x=j, y=i, s=cm[i,j], \n",
        "                      color='w' if cm[i,j] > threshold else 'black',\n",
        "                      fontsize=16, ha='center', va='center')\n",
        "\n",
        "    tick_marks = np.arange(len(labels))\n",
        "    plt.xticks(tick_marks, labels)\n",
        "    plt.yticks(tick_marks, labels)\n",
        "    plt.ylabel('True label')\n",
        "    plt.xlabel('Predicted label')\n",
        "    plt.colorbar()\n",
        "    plt.tight_layout()"
      ]
    },
    {
      "cell_type": "code",
      "execution_count": null,
      "metadata": {
        "colab": {
          "base_uri": "https://localhost:8080/"
        },
        "id": "lVl-qLkWe3C-",
        "outputId": "9f049f7a-4033-41de-a8c7-8bf22a60842a"
      },
      "outputs": [
        {
          "name": "stdout",
          "output_type": "stream",
          "text": [
            "Cross Validation Accuracy Score: 0.465 (0.028)\n"
          ]
        },
        {
          "data": {
            "text/plain": [
              "array([0.4375    , 0.453125  , 0.45625   , 0.44514107, 0.45454545,\n",
              "       0.45454545, 0.47335423, 0.44827586, 0.46081505, 0.49216301,\n",
              "       0.478125  , 0.4625    , 0.453125  , 0.49529781, 0.54231975,\n",
              "       0.44200627, 0.42946708, 0.43887147, 0.42946708, 0.47962382,\n",
              "       0.4625    , 0.453125  , 0.45      , 0.49216301, 0.50783699,\n",
              "       0.4200627 , 0.48902821, 0.44827586, 0.4984326 , 0.51410658])"
            ]
          },
          "execution_count": 32,
          "metadata": {},
          "output_type": "execute_result"
        }
      ],
      "source": [
        "ab_base_model =  AdaBoostClassifier(n_estimators=100, random_state=rand_state)\n",
        "get_mean_cvs(ab_base_model, X_train, y_train)"
      ]
    },
    {
      "cell_type": "code",
      "execution_count": null,
      "metadata": {
        "colab": {
          "base_uri": "https://localhost:8080/",
          "height": 711
        },
        "id": "WPvwmSXle3IQ",
        "outputId": "b4f55b10-4bad-4b9e-e752-1487827029b0"
      },
      "outputs": [
        {
          "name": "stderr",
          "output_type": "stream",
          "text": [
            "/usr/local/lib/python3.9/dist-packages/sklearn/utils/validation.py:1143: DataConversionWarning: A column-vector y was passed when a 1d array was expected. Please change the shape of y to (n_samples, ), for example using ravel().\n",
            "  y = column_or_1d(y, warn=True)\n"
          ]
        },
        {
          "name": "stdout",
          "output_type": "stream",
          "text": [
            "                precision    recall  f1-score   support\n",
            "\n",
            "   High Shares       0.39      0.31      0.34       283\n",
            "Average Shares       0.47      0.56      0.51       245\n",
            "    Low Shares       0.49      0.51      0.50       271\n",
            "\n",
            "      accuracy                           0.45       799\n",
            "     macro avg       0.45      0.46      0.45       799\n",
            "  weighted avg       0.45      0.45      0.45       799\n",
            "\n"
          ]
        },
        {
          "data": {
            "image/png": "[encoded data removed]",
            "text/plain": [
              "<Figure size 640x480 with 2 Axes>"
            ]
          },
          "metadata": {},
          "output_type": "display_data"
        }
      ],
      "source": [
        "ab_base_model.fit(X_train, y_train)\n",
        "y_pred_ab_base = ab_base_model.predict(X_test)\n",
        "evaluate_model(y_test, y_pred_ab_base)"
      ]
    },
    {
      "cell_type": "code",
      "execution_count": null,
      "metadata": {
        "colab": {
          "base_uri": "https://localhost:8080/"
        },
        "id": "1Guk1N9We3Kv",
        "outputId": "6dee4367-2ccb-45f4-b160-54a801f38274"
      },
      "outputs": [
        {
          "name": "stderr",
          "output_type": "stream",
          "text": [
            "/usr/local/lib/python3.9/dist-packages/sklearn/utils/validation.py:1143: DataConversionWarning: A column-vector y was passed when a 1d array was expected. Please change the shape of y to (n_samples, ), for example using ravel().\n",
            "  y = column_or_1d(y, warn=True)\n"
          ]
        },
        {
          "name": "stdout",
          "output_type": "stream",
          "text": [
            "Best: -1.0541577301039349 using {'n_estimators': 50, 'learning_rate': 0.01}\n",
            "-1.0740981043462114 (0.001215878723778299) with: {'n_estimators': 50, 'learning_rate': 0.1}\n",
            "-1.087260565245316 (0.001277844542557686) with: {'n_estimators': 25, 'learning_rate': 1.0}\n",
            "-1.056803517977993 (0.0034705064728782708) with: {'n_estimators': 100, 'learning_rate': 0.01}\n",
            "-1.0553976568272914 (0.009253704438363554) with: {'n_estimators': 25, 'learning_rate': 0.01}\n",
            "-1.0926319435296699 (0.0013598535052255936) with: {'n_estimators': 100, 'learning_rate': 1.0}\n",
            "-1.0629088276738767 (0.0023147464201517293) with: {'n_estimators': 200, 'learning_rate': 0.01}\n",
            "-1.06488918359689 (0.0020278361933582364) with: {'n_estimators': 25, 'learning_rate': 0.1}\n",
            "-1.0541577301039349 (0.005523629009765593) with: {'n_estimators': 50, 'learning_rate': 0.01}\n",
            "-1.0948652574299433 (0.0008726738173769893) with: {'n_estimators': 200, 'learning_rate': 1.0}\n",
            "-1.081502563637835 (0.0009455889552752935) with: {'n_estimators': 100, 'learning_rate': 0.1}\n"
          ]
        }
      ],
      "source": [
        "params = {\"n_estimators\": [25,50,100,200],\n",
        "          \"learning_rate\": [0.01, 0.1, 1.0]\n",
        "          }\n",
        "\n",
        "ab_model =  AdaBoostClassifier()\n",
        "\n",
        "ab_best_params = get_best_params(model=ab_model,\n",
        "                                 grid=params,\n",
        "                                 X=X_train,\n",
        "                                 y=y_train,\n",
        "                                 is_iterate_all=False)"
      ]
    },
    {
      "cell_type": "code",
      "execution_count": null,
      "metadata": {
        "colab": {
          "base_uri": "https://localhost:8080/",
          "height": 815
        },
        "id": "rvMaDP9-h-p0",
        "outputId": "ea1a678c-e871-4fdb-e01d-dc6ba741a5a6"
      },
      "outputs": [
        {
          "name": "stderr",
          "output_type": "stream",
          "text": [
            "/usr/local/lib/python3.9/dist-packages/sklearn/utils/validation.py:1143: DataConversionWarning: A column-vector y was passed when a 1d array was expected. Please change the shape of y to (n_samples, ), for example using ravel().\n",
            "  y = column_or_1d(y, warn=True)\n",
            "/usr/local/lib/python3.9/dist-packages/sklearn/metrics/_classification.py:1344: UndefinedMetricWarning: Precision and F-score are ill-defined and being set to 0.0 in labels with no predicted samples. Use `zero_division` parameter to control this behavior.\n",
            "  _warn_prf(average, modifier, msg_start, len(result))\n",
            "/usr/local/lib/python3.9/dist-packages/sklearn/metrics/_classification.py:1344: UndefinedMetricWarning: Precision and F-score are ill-defined and being set to 0.0 in labels with no predicted samples. Use `zero_division` parameter to control this behavior.\n",
            "  _warn_prf(average, modifier, msg_start, len(result))\n",
            "/usr/local/lib/python3.9/dist-packages/sklearn/metrics/_classification.py:1344: UndefinedMetricWarning: Precision and F-score are ill-defined and being set to 0.0 in labels with no predicted samples. Use `zero_division` parameter to control this behavior.\n",
            "  _warn_prf(average, modifier, msg_start, len(result))\n"
          ]
        },
        {
          "name": "stdout",
          "output_type": "stream",
          "text": [
            "                precision    recall  f1-score   support\n",
            "\n",
            "   High Shares       0.00      0.00      0.00       283\n",
            "Average Shares       0.41      0.67      0.51       245\n",
            "    Low Shares       0.44      0.65      0.52       271\n",
            "\n",
            "      accuracy                           0.43       799\n",
            "     macro avg       0.28      0.44      0.34       799\n",
            "  weighted avg       0.28      0.43      0.33       799\n",
            "\n"
          ]
        },
        {
          "data": {
            "image/png": "[encoded data removed]",
            "text/plain": [
              "<Figure size 640x480 with 2 Axes>"
            ]
          },
          "metadata": {},
          "output_type": "display_data"
        }
      ],
      "source": [
        "# Parameters to be tuned (Runtime at 2h20mins)\n",
        "max_features = ['auto', 'sqrt']\n",
        "min_samples_split = [2, 5, 10]\n",
        "min_samples_leaf = [1, 2, 4]\n",
        "\n",
        "# Placing parameters into a dictionary\n",
        "parameters= {\n",
        "    'max_features': max_features,\n",
        "    'min_samples_split': min_samples_split,\n",
        "    'min_samples_leaf': min_samples_leaf,\n",
        "}\n",
        "ab_best_model = AdaBoostClassifier(n_estimators = 50, learning_rate = 0.01).fit(X_train, y_train)\n",
        "y_pred_ab_best = ab_best_model.predict(X_test)\n",
        "evaluate_model(y_test, y_pred_ab_best)"
      ]
    },
    {
      "cell_type": "code",
      "execution_count": null,
      "metadata": {
        "colab": {
          "base_uri": "https://localhost:8080/"
        },
        "id": "Zvp59vwljiK6",
        "outputId": "2224b0ea-f341-410b-8061-e2cff1aefb9d"
      },
      "outputs": [
        {
          "data": {
            "text/plain": [
              "array(['timedelta', 'n_tokens_title', 'n_tokens_preview',\n",
              "       'preview_subjectivity', 'n_tokens_content', 'prop_non_stop',\n",
              "       'prop_unique_non_stop', 'num_imgs', 'num_hrefs', 'n_tokens_cross',\n",
              "       'subjectivity_cross', 'content_cross', 'subcategory1_Attractions',\n",
              "       'subcategory1_Australia', 'subcategory1_Beauty & Wellness',\n",
              "       'subcategory1_Food Guides', 'subcategory1_Malaysia',\n",
              "       'subcategory1_Sales & Promotions',\n",
              "       'author_category_100 to 200 posts',\n",
              "       'author_category_More than 200 posts', '0', '1', '2', '3', '4',\n",
              "       '5', '6', '7', '8', '9', '0.1', '1.1', '2.1', '3.1', '4.1', '5.1',\n",
              "       '6.1', '7.1', '8.1', '9.1', '0.2', '1.2', '2.2', '3.2', '4.2',\n",
              "       '5.2', '6.2', '7.2', '8.2', '9.2'], dtype=object)"
            ]
          },
          "execution_count": 18,
          "metadata": {},
          "output_type": "execute_result"
        }
      ],
      "source": [
        "ab_best_model.feature_names_in_"
      ]
    },
    {
      "cell_type": "code",
      "execution_count": null,
      "metadata": {
        "colab": {
          "base_uri": "https://localhost:8080/"
        },
        "id": "-sqm-0fMjnoY",
        "outputId": "2936a48a-346f-40a9-e9c8-f36feaa0b8df"
      },
      "outputs": [
        {
          "data": {
            "text/plain": [
              "feature\n",
              "timedelta    0.60\n",
              "num_imgs     0.34\n",
              "0.1          0.06\n",
              "8.1          0.00\n",
              "8            0.00\n",
              "9            0.00\n",
              "1.1          0.00\n",
              "2.1          0.00\n",
              "3.1          0.00\n",
              "4.1          0.00\n",
              "Name: score, dtype: float64"
            ]
          },
          "execution_count": 24,
          "metadata": {},
          "output_type": "execute_result"
        }
      ],
      "source": [
        "\n",
        "pd.DataFrame({'feature': ab_best_model.feature_names_in_, 'score': ab_best_model.feature_importances_}).set_index('feature').squeeze().sort_values(ascending = False)[:10]"
      ]
    },
    {
      "cell_type": "code",
      "execution_count": null,
      "metadata": {
        "id": "YE6TsoXTu-dK"
      },
      "outputs": [],
      "source": [
        "evaluate_model(y_test, y_pred_ab_base)"
      ]
    },
    {
      "cell_type": "code",
      "execution_count": null,
      "metadata": {
        "id": "2j0JcL8riHvw"
      },
      "outputs": [],
      "source": [
        "import pickle\n",
        "\n",
        "path = f'/content/drive/My Drive/IS4242/datasets/ab_model.pkl'\n",
        "pickle.dump(model, open(path,'wb'))"
      ]
    },
    {
      "cell_type": "code",
      "execution_count": null,
      "metadata": {
        "id": "NPUqasjLER1A"
      },
      "outputs": [],
      "source": []
    },
    {
      "cell_type": "markdown",
      "metadata": {
        "id": "H5TwCQGOH-nn"
      },
      "source": [
        "# 3. Random Forest\n"
      ]
    },
    {
      "cell_type": "code",
      "execution_count": null,
      "metadata": {
        "id": "iX_fdDdaTk3g"
      },
      "outputs": [],
      "source": [
        "mapping = {\"Low Shares\": 0, \"Average Shares\": 1, \"High Shares\": 2}\n",
        "\n",
        "y_train['num_shares_bin'] = y_train['num_shares_bin'].map(mapping)\n",
        "y_test['num_shares_bin'] = y_test['num_shares_bin'].map(mapping)"
      ]
    },
    {
      "cell_type": "code",
      "execution_count": null,
      "metadata": {
        "id": "T0VEFQA2TpI7"
      },
      "outputs": [],
      "source": [
        "X_train = X_train.values\n",
        "X_test = X_test.values\n",
        "y_train = y_train.values\n",
        "y_test = y_test.values"
      ]
    },
    {
      "cell_type": "code",
      "execution_count": null,
      "metadata": {
        "id": "5GtWR_iUgL__"
      },
      "outputs": [],
      "source": [
        "y_train = y_train.flatten()\n",
        "y_test = y_test.flatten()"
      ]
    },
    {
      "cell_type": "code",
      "execution_count": null,
      "metadata": {
        "colab": {
          "base_uri": "https://localhost:8080/"
        },
        "id": "CR-x0oVhIFWh",
        "outputId": "f92cb087-45a2-44a9-cea0-b1c72f296ad2"
      },
      "outputs": [
        {
          "name": "stderr",
          "output_type": "stream",
          "text": [
            "<ipython-input-21-e4a8a26ae20a>:7: DataConversionWarning: A column-vector y was passed when a 1d array was expected. Please change the shape of y to (n_samples,), for example using ravel().\n",
            "  rf.fit(X_train, y_train)\n"
          ]
        },
        {
          "name": "stdout",
          "output_type": "stream",
          "text": [
            "              precision    recall  f1-score   support\n",
            "\n",
            "           0       0.49      0.51      0.50       271\n",
            "           1       0.41      0.37      0.39       283\n",
            "           2       0.48      0.52      0.50       245\n",
            "\n",
            "    accuracy                           0.46       799\n",
            "   macro avg       0.46      0.47      0.46       799\n",
            "weighted avg       0.46      0.46      0.46       799\n",
            "\n"
          ]
        }
      ],
      "source": [
        "from sklearn.ensemble import RandomForestClassifier\n",
        "from sklearn.metrics import classification_report, accuracy_score\n",
        "\n",
        "\n",
        "rf = RandomForestClassifier()\n",
        "np.random.seed(rand_state)\n",
        "rf.fit(X_train, y_train)\n",
        "y_pred = rf.predict(X_test)\n",
        "\n",
        "print(classification_report(y_test,y_pred))"
      ]
    },
    {
      "cell_type": "markdown",
      "metadata": {
        "id": "f0mc8ZfyIFu3"
      },
      "source": [
        "# 4. Convolutional Neural Network"
      ]
    },
    {
      "cell_type": "code",
      "execution_count": null,
      "metadata": {
        "id": "tLL_HdScUHkL"
      },
      "outputs": [],
      "source": [
        "X_train = pd.read_csv('./drive/My Drive/IS4242/datasets/X_train.csv')\n",
        "y_train = pd.read_csv('./drive/My Drive/IS4242/datasets/y_train.csv')\n",
        "\n",
        "X_test = pd.read_csv('./drive/My Drive/IS4242/datasets/X_test.csv')\n",
        "y_test = pd.read_csv('./drive/My Drive/IS4242/datasets/y_test.csv')"
      ]
    },
    {
      "cell_type": "code",
      "execution_count": null,
      "metadata": {
        "id": "_An2LV3oUHkM"
      },
      "outputs": [],
      "source": [
        "mapping = {\"Low Shares\": 0, \"Average Shares\": 1, \"High Shares\": 2}\n",
        "\n",
        "y_train['num_shares_bin'] = y_train['num_shares_bin'].map(mapping)\n",
        "y_test['num_shares_bin'] = y_test['num_shares_bin'].map(mapping)"
      ]
    },
    {
      "cell_type": "code",
      "execution_count": null,
      "metadata": {
        "id": "DYmT-sPpUHkM"
      },
      "outputs": [],
      "source": [
        "X_train = X_train.values\n",
        "X_test = X_test.values\n",
        "y_train = y_train.values\n",
        "y_test = y_test.values"
      ]
    },
    {
      "cell_type": "code",
      "execution_count": null,
      "metadata": {
        "id": "kjfkWEEdhMpB"
      },
      "outputs": [],
      "source": [
        "import tensorflow\n",
        "from tensorflow.keras.utils import to_categorical\n",
        "# Reshape X_train and X_test\n",
        "X_train = np.reshape(X_train, (X_train.shape[0], X_train.shape[1], 1))\n",
        "X_test = np.reshape(X_test, (X_test.shape[0], X_test.shape[1], 1))\n",
        "\n",
        "# Reshape y_train and y_test\n",
        "# One-hot encode target variables\n",
        "y_train_encode = to_categorical(y_train)\n",
        "y_test_encode = to_categorical(y_test)\n"
      ]
    },
    {
      "cell_type": "code",
      "execution_count": null,
      "metadata": {
        "colab": {
          "base_uri": "https://localhost:8080/"
        },
        "id": "qcVxZyaTd7Xc",
        "outputId": "ea8d4c7c-86ff-40aa-925e-f20d8906e599"
      },
      "outputs": [
        {
          "name": "stdout",
          "output_type": "stream",
          "text": [
            "(3193, 50, 1)\n",
            "(3193, 3)\n",
            "(799, 50, 1)\n",
            "(799, 3)\n"
          ]
        }
      ],
      "source": [
        "print(X_train.shape)\n",
        "print(y_train_encode.shape)\n",
        "print(X_test.shape)\n",
        "print(y_test_encode.shape)"
      ]
    },
    {
      "cell_type": "code",
      "execution_count": null,
      "metadata": {
        "colab": {
          "base_uri": "https://localhost:8080/"
        },
        "id": "KiNr507dIInH",
        "outputId": "a3749d55-8148-4b85-84e5-e44d4aaa51ba"
      },
      "outputs": [
        {
          "name": "stdout",
          "output_type": "stream",
          "text": [
            "Epoch 1/25\n",
            "100/100 [==============================] - 3s 18ms/step - loss: 6062.0186 - accuracy: 0.3276 - val_loss: 2420.8489 - val_accuracy: 0.3542\n",
            "Epoch 2/25\n",
            "100/100 [==============================] - 1s 14ms/step - loss: 2133.2334 - accuracy: 0.3288 - val_loss: 196.6582 - val_accuracy: 0.3392\n",
            "Epoch 3/25\n",
            "100/100 [==============================] - 1s 14ms/step - loss: 1103.0475 - accuracy: 0.3342 - val_loss: 246.6437 - val_accuracy: 0.3079\n",
            "Epoch 4/25\n",
            "100/100 [==============================] - 1s 15ms/step - loss: 660.2885 - accuracy: 0.3451 - val_loss: 119.7515 - val_accuracy: 0.3066\n",
            "Epoch 5/25\n",
            "100/100 [==============================] - 2s 16ms/step - loss: 405.5176 - accuracy: 0.3276 - val_loss: 65.4854 - val_accuracy: 0.3579\n",
            "Epoch 6/25\n",
            "100/100 [==============================] - 2s 22ms/step - loss: 230.8657 - accuracy: 0.3335 - val_loss: 27.8691 - val_accuracy: 0.3517\n",
            "Epoch 7/25\n",
            "100/100 [==============================] - 3s 31ms/step - loss: 131.4828 - accuracy: 0.3398 - val_loss: 22.8891 - val_accuracy: 0.3867\n",
            "Epoch 8/25\n",
            "100/100 [==============================] - 1s 14ms/step - loss: 66.3784 - accuracy: 0.3511 - val_loss: 8.5065 - val_accuracy: 0.3742\n",
            "Epoch 9/25\n",
            "100/100 [==============================] - 1s 13ms/step - loss: 26.5683 - accuracy: 0.3573 - val_loss: 7.2887 - val_accuracy: 0.3817\n",
            "Epoch 10/25\n",
            "100/100 [==============================] - 1s 13ms/step - loss: 12.7672 - accuracy: 0.3761 - val_loss: 2.8810 - val_accuracy: 0.4080\n",
            "Epoch 11/25\n",
            "100/100 [==============================] - 1s 14ms/step - loss: 9.4715 - accuracy: 0.3739 - val_loss: 2.2803 - val_accuracy: 0.4005\n",
            "Epoch 12/25\n",
            "100/100 [==============================] - 1s 15ms/step - loss: 7.8915 - accuracy: 0.3624 - val_loss: 1.7600 - val_accuracy: 0.4018\n",
            "Epoch 13/25\n",
            "100/100 [==============================] - 1s 14ms/step - loss: 7.4914 - accuracy: 0.3608 - val_loss: 2.1004 - val_accuracy: 0.3942\n",
            "Epoch 14/25\n",
            "100/100 [==============================] - 2s 20ms/step - loss: 8.0203 - accuracy: 0.3583 - val_loss: 3.0076 - val_accuracy: 0.3730\n",
            "Epoch 15/25\n",
            "100/100 [==============================] - 2s 21ms/step - loss: 7.4115 - accuracy: 0.3743 - val_loss: 2.0421 - val_accuracy: 0.3967\n",
            "Epoch 16/25\n",
            "100/100 [==============================] - 2s 19ms/step - loss: 7.7858 - accuracy: 0.3592 - val_loss: 2.9000 - val_accuracy: 0.3755\n",
            "Epoch 17/25\n",
            "100/100 [==============================] - 1s 13ms/step - loss: 7.9842 - accuracy: 0.3592 - val_loss: 3.0638 - val_accuracy: 0.3930\n",
            "Epoch 18/25\n",
            "100/100 [==============================] - 2s 15ms/step - loss: 8.6701 - accuracy: 0.3580 - val_loss: 3.1068 - val_accuracy: 0.3880\n",
            "Epoch 19/25\n",
            "100/100 [==============================] - 2s 19ms/step - loss: 8.1301 - accuracy: 0.3724 - val_loss: 2.1570 - val_accuracy: 0.4255\n",
            "Epoch 20/25\n",
            "100/100 [==============================] - 2s 16ms/step - loss: 7.1519 - accuracy: 0.3677 - val_loss: 2.5444 - val_accuracy: 0.3792\n",
            "Epoch 21/25\n",
            "100/100 [==============================] - 1s 14ms/step - loss: 8.6138 - accuracy: 0.3558 - val_loss: 4.4163 - val_accuracy: 0.3817\n",
            "Epoch 22/25\n",
            "100/100 [==============================] - 1s 13ms/step - loss: 7.5931 - accuracy: 0.3718 - val_loss: 2.1536 - val_accuracy: 0.4030\n",
            "Epoch 23/25\n",
            "100/100 [==============================] - 2s 17ms/step - loss: 6.7995 - accuracy: 0.3639 - val_loss: 2.6230 - val_accuracy: 0.3942\n",
            "Epoch 24/25\n",
            "100/100 [==============================] - 2s 22ms/step - loss: 6.2412 - accuracy: 0.3630 - val_loss: 1.9921 - val_accuracy: 0.4143\n",
            "Epoch 25/25\n",
            "100/100 [==============================] - 2s 20ms/step - loss: 7.0379 - accuracy: 0.3680 - val_loss: 1.9518 - val_accuracy: 0.3917\n"
          ]
        },
        {
          "data": {
            "text/plain": [
              "<keras.callbacks.History at 0x7febf4f46fa0>"
            ]
          },
          "execution_count": 27,
          "metadata": {},
          "output_type": "execute_result"
        }
      ],
      "source": [
        "# Import necessary libraries\n",
        "import keras\n",
        "from keras.models import Sequential\n",
        "from keras.layers import Dense, Conv1D, MaxPooling1D, Flatten, Dropout\n",
        "import tensorflow as tf\n",
        "\n",
        "tf.keras.utils.set_random_seed(1)\n",
        "\n",
        "# Build the model\n",
        "model = Sequential()\n",
        "model.add(Conv1D(filters=128, kernel_size=3, activation='relu', input_shape=(X_train.shape[1], X_train.shape[2])))\n",
        "model.add(MaxPooling1D(pool_size=2, padding=\"same\"))\n",
        "model.add(Dropout(0.2))\n",
        "model.add(Conv1D(64, kernel_size=2,padding=\"same\", activation=\"linear\"))\n",
        "model.add(MaxPooling1D(pool_size=2, padding=\"same\"))\n",
        "model.add(Dropout(0.2))\n",
        "model.add(Conv1D(32, kernel_size=2,padding=\"same\", activation=\"linear\"))\n",
        "model.add(MaxPooling1D(pool_size=2, padding=\"same\"))\n",
        "model.add(Dropout(0.2))\n",
        "model.add(Flatten())\n",
        "model.add(Dense(units=3, activation='softmax'))\n",
        "\n",
        "# Compile the model\n",
        "model.compile(optimizer='adam', loss='categorical_crossentropy', metrics=['accuracy'])\n",
        "\n",
        "# Train the model\n",
        "model.fit(X_train, y_train_encode, epochs=25, batch_size=32, validation_data=(X_test, y_test_encode))\n"
      ]
    },
    {
      "cell_type": "code",
      "execution_count": null,
      "metadata": {
        "colab": {
          "base_uri": "https://localhost:8080/"
        },
        "id": "ItiyJQsnn1oS",
        "outputId": "6c2daa5d-2771-4357-e669-343c0de2ec24"
      },
      "outputs": [
        {
          "name": "stdout",
          "output_type": "stream",
          "text": [
            "25/25 [==============================] - 0s 3ms/step\n",
            "              precision    recall  f1-score   support\n",
            "\n",
            "           0       0.41      0.73      0.52       271\n",
            "           1       0.35      0.37      0.36       283\n",
            "           2       0.61      0.04      0.08       245\n",
            "\n",
            "    accuracy                           0.39       799\n",
            "   macro avg       0.46      0.38      0.32       799\n",
            "weighted avg       0.45      0.39      0.33       799\n",
            "\n"
          ]
        }
      ],
      "source": [
        "from sklearn.metrics import classification_report, accuracy_score\n",
        "# Make predictions on test data\n",
        "y_pred = model.predict(X_test)\n",
        "\n",
        "# Convert predictions from one-hot encoding to class labels\n",
        "y_pred = np.argmax(y_pred, axis=1)\n",
        "print(classification_report(y_test.flatten(), y_pred))"
      ]
    },
    {
      "cell_type": "code",
      "execution_count": null,
      "metadata": {
        "id": "TZ8fS4Fha5Y6"
      },
      "outputs": [],
      "source": []
    },
    {
      "cell_type": "markdown",
      "metadata": {
        "id": "ZxUkSUqCEp7Z"
      },
      "source": [
        "# Model Evaluation"
      ]
    },
    {
      "cell_type": "code",
      "execution_count": null,
      "metadata": {
        "id": "zuUNxTP7EsAe"
      },
      "outputs": [],
      "source": []
    }
  ],
  "metadata": {
    "colab": {
      "collapsed_sections": [
        "YDIT_Yi-Xfxl",
        "jKxQ3MFDEhj0",
        "dFLFxs8fEm6I"
      ],
      "provenance": []
    },
    "kernelspec": {
      "display_name": "Python 3",
      "name": "python3"
    },
    "language_info": {
      "codemirror_mode": {
        "name": "ipython",
        "version": 3
      },
      "file_extension": ".py",
      "mimetype": "text/x-python",
      "name": "python",
      "nbconvert_exporter": "python",
      "pygments_lexer": "ipython3",
      "version": "3.10.9"
    }
  },
  "nbformat": 4,
  "nbformat_minor": 0
}
